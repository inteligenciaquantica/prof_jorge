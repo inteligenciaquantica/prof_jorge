{
  "nbformat": 4,
  "nbformat_minor": 0,
  "metadata": {
    "colab": {
      "provenance": []
    },
    "kernelspec": {
      "name": "python3",
      "display_name": "Python 3"
    },
    "language_info": {
      "name": "python"
    }
  },
  "cells": [
    {
      "cell_type": "code",
      "source": [
        "!pip install pennylane"
      ],
      "metadata": {
        "colab": {
          "base_uri": "https://localhost:8080/"
        },
        "id": "hOwkHA2lgQDk",
        "outputId": "d28d6063-b5e0-436b-fc7a-748d6a4036be"
      },
      "execution_count": null,
      "outputs": [
        {
          "output_type": "stream",
          "name": "stdout",
          "text": [
            "Collecting pennylane\n",
            "  Downloading PennyLane-0.37.0-py3-none-any.whl.metadata (9.3 kB)\n",
            "Requirement already satisfied: numpy<2.0 in /usr/local/lib/python3.10/dist-packages (from pennylane) (1.26.4)\n",
            "Requirement already satisfied: scipy in /usr/local/lib/python3.10/dist-packages (from pennylane) (1.13.1)\n",
            "Requirement already satisfied: networkx in /usr/local/lib/python3.10/dist-packages (from pennylane) (3.3)\n",
            "Collecting rustworkx (from pennylane)\n",
            "  Downloading rustworkx-0.15.1-cp38-abi3-manylinux_2_17_x86_64.manylinux2014_x86_64.whl.metadata (9.9 kB)\n",
            "Requirement already satisfied: autograd in /usr/local/lib/python3.10/dist-packages (from pennylane) (1.6.2)\n",
            "Requirement already satisfied: toml in /usr/local/lib/python3.10/dist-packages (from pennylane) (0.10.2)\n",
            "Collecting appdirs (from pennylane)\n",
            "  Downloading appdirs-1.4.4-py2.py3-none-any.whl.metadata (9.0 kB)\n",
            "Collecting semantic-version>=2.7 (from pennylane)\n",
            "  Downloading semantic_version-2.10.0-py2.py3-none-any.whl.metadata (9.7 kB)\n",
            "Collecting autoray>=0.6.11 (from pennylane)\n",
            "  Downloading autoray-0.6.12-py3-none-any.whl.metadata (5.7 kB)\n",
            "Requirement already satisfied: cachetools in /usr/local/lib/python3.10/dist-packages (from pennylane) (5.5.0)\n",
            "Collecting pennylane-lightning>=0.37 (from pennylane)\n",
            "  Downloading PennyLane_Lightning-0.37.0-cp310-cp310-manylinux_2_28_x86_64.whl.metadata (23 kB)\n",
            "Requirement already satisfied: requests in /usr/local/lib/python3.10/dist-packages (from pennylane) (2.32.3)\n",
            "Requirement already satisfied: typing-extensions in /usr/local/lib/python3.10/dist-packages (from pennylane) (4.12.2)\n",
            "Requirement already satisfied: packaging in /usr/local/lib/python3.10/dist-packages (from pennylane) (24.1)\n",
            "Requirement already satisfied: future>=0.15.2 in /usr/local/lib/python3.10/dist-packages (from autograd->pennylane) (1.0.0)\n",
            "Requirement already satisfied: charset-normalizer<4,>=2 in /usr/local/lib/python3.10/dist-packages (from requests->pennylane) (3.3.2)\n",
            "Requirement already satisfied: idna<4,>=2.5 in /usr/local/lib/python3.10/dist-packages (from requests->pennylane) (3.7)\n",
            "Requirement already satisfied: urllib3<3,>=1.21.1 in /usr/local/lib/python3.10/dist-packages (from requests->pennylane) (2.0.7)\n",
            "Requirement already satisfied: certifi>=2017.4.17 in /usr/local/lib/python3.10/dist-packages (from requests->pennylane) (2024.7.4)\n",
            "Downloading PennyLane-0.37.0-py3-none-any.whl (1.8 MB)\n",
            "\u001b[2K   \u001b[90m━━━━━━━━━━━━━━━━━━━━━━━━━━━━━━━━━━━━━━━━\u001b[0m \u001b[32m1.8/1.8 MB\u001b[0m \u001b[31m16.3 MB/s\u001b[0m eta \u001b[36m0:00:00\u001b[0m\n",
            "\u001b[?25hDownloading autoray-0.6.12-py3-none-any.whl (50 kB)\n",
            "\u001b[2K   \u001b[90m━━━━━━━━━━━━━━━━━━━━━━━━━━━━━━━━━━━━━━━━\u001b[0m \u001b[32m51.0/51.0 kB\u001b[0m \u001b[31m1.8 MB/s\u001b[0m eta \u001b[36m0:00:00\u001b[0m\n",
            "\u001b[?25hDownloading PennyLane_Lightning-0.37.0-cp310-cp310-manylinux_2_28_x86_64.whl (15.5 MB)\n",
            "\u001b[2K   \u001b[90m━━━━━━━━━━━━━━━━━━━━━━━━━━━━━━━━━━━━━━━━\u001b[0m \u001b[32m15.5/15.5 MB\u001b[0m \u001b[31m33.2 MB/s\u001b[0m eta \u001b[36m0:00:00\u001b[0m\n",
            "\u001b[?25hDownloading semantic_version-2.10.0-py2.py3-none-any.whl (15 kB)\n",
            "Downloading appdirs-1.4.4-py2.py3-none-any.whl (9.6 kB)\n",
            "Downloading rustworkx-0.15.1-cp38-abi3-manylinux_2_17_x86_64.manylinux2014_x86_64.whl (2.0 MB)\n",
            "\u001b[2K   \u001b[90m━━━━━━━━━━━━━━━━━━━━━━━━━━━━━━━━━━━━━━━━\u001b[0m \u001b[32m2.0/2.0 MB\u001b[0m \u001b[31m31.3 MB/s\u001b[0m eta \u001b[36m0:00:00\u001b[0m\n",
            "\u001b[?25hInstalling collected packages: appdirs, semantic-version, rustworkx, autoray, pennylane-lightning, pennylane\n",
            "Successfully installed appdirs-1.4.4 autoray-0.6.12 pennylane-0.37.0 pennylane-lightning-0.37.0 rustworkx-0.15.1 semantic-version-2.10.0\n"
          ]
        }
      ]
    },
    {
      "cell_type": "markdown",
      "source": [
        "**Codercise I.1.1.** Suppose we are given an unnormalized quantum state\n",
        "\n",
        "$|\\psi>=\\alpha |0> + \\beta|1>,|\\alpha|^{2} + |\\beta|^{2} \\ne 1$\n",
        "\n",
        "We can turn this into an equivalent, valid quantum state by normalizing it. Write a function that, given  and , normalizes this state to\n",
        "\n",
        "$$|\\psi'>=\\alpha' |0> + \\beta'|1>,|\\alpha'|^{2} + |\\beta'|^{2} = 1$$"
      ],
      "metadata": {
        "id": "4DGa_BzRV-OB"
      }
    },
    {
      "cell_type": "code",
      "source": [
        "import pennylane as qml\n",
        "from pennylane import numpy as np\n",
        "import matplotlib.pyplot as plt\n"
      ],
      "metadata": {
        "id": "nyiEv9ah9n9v"
      },
      "execution_count": null,
      "outputs": []
    },
    {
      "cell_type": "code",
      "execution_count": null,
      "metadata": {
        "id": "qveI9YapgLQ9"
      },
      "outputs": [],
      "source": [
        "\n",
        "\n",
        "ket_0 = np.array([1, 0])\n",
        "ket_1 = np.array([0, 1])\n",
        "\n",
        "def normalize_state(alpha, beta):\n",
        "    \"\"\"Compute a normalized quantum state given arbitrary amplitudes.\n",
        "\n",
        "    Args:\n",
        "        alpha (complex): The amplitude associated with the |0> state.\n",
        "        beta (complex): The amplitude associated with the |1> state.\n",
        "\n",
        "    Returns:\n",
        "        array[complex]: A vector (numpy array) with 2 elements that represents\n",
        "        a normalized quantum state.\n",
        "    \"\"\"\n",
        "\n",
        "    ##################\n",
        "    # YOUR CODE HERE #\n",
        "    ##################\n",
        "\n",
        "    # CREATE A VECTOR [a', b'] BASED ON alpha AND beta SUCH THAT |a'|^2 + |b'|^2 = 1\n",
        "    a = alpha/np.sqrt(alpha*alpha.conjugate() + beta*beta.conjugate())\n",
        "    b = beta/np.sqrt(alpha*alpha.conjugate() + beta*beta.conjugate())\n",
        "    psi = a*ket_0 + b*ket_1\n",
        "    # RETURN A VECTOR\n",
        "    return psi, a, b"
      ]
    },
    {
      "cell_type": "code",
      "source": [
        "psi,a,b = normalize_state(2+1j, 5-1j)\n",
        "\n",
        "print(a)\n",
        "print(f'psi: {psi}')\n",
        "print(abs(psi[0]))\n",
        "print(abs(psi[1]))\n",
        "print(abs(psi[0]*psi[0].conjugate()+psi[1]*psi[1].conjugate()))"
      ],
      "metadata": {
        "colab": {
          "base_uri": "https://localhost:8080/"
        },
        "id": "3LQUJwTogrCc",
        "outputId": "e75ccdb4-be9b-40b7-b257-2ef1e099c878"
      },
      "execution_count": null,
      "outputs": [
        {
          "output_type": "stream",
          "name": "stdout",
          "text": [
            "(0.3592106040535498+0.1796053020267749j)\n",
            "psi: [0.3592106 +0.1796053j 0.89802651-0.1796053j]\n",
            "0.40160966445124946\n",
            "0.9158109397792511\n",
            "1.0000000000000002\n"
          ]
        }
      ]
    },
    {
      "cell_type": "markdown",
      "source": [
        "**Codercise I.1.2** Write a function to compute the inner product between two arbitrary states. Then, use it to verify that $|0>$ and $|0>$ form an orthonormal basis, i.e., the states are normalized and orthogonal."
      ],
      "metadata": {
        "id": "YM8mLZ00W9Oh"
      }
    },
    {
      "cell_type": "code",
      "source": [
        "state_1 = np.array([0.8, 0.6])\n",
        "state_2 = np.array([1 / np.sqrt(2), 1j / np.sqrt(2)])\n",
        "\n",
        "def inner_product(state_1, state_2):\n",
        "    \"\"\"Compute the inner product between two states.\n",
        "\n",
        "    Args:\n",
        "        state_1 (array[complex]): A normalized quantum state vector\n",
        "        state_2 (array[complex]): A second normalized quantum state vector\n",
        "\n",
        "    Returns:\n",
        "        complex: The value of the inner product <state_1 | state_2>.\n",
        "    \"\"\"\n",
        "\n",
        "    ##################\n",
        "    # YOUR CODE HERE #\n",
        "    ##################\n",
        "\n",
        "    # COMPUTE AND RETURN THE INNER PRODUCT\n",
        "\n",
        "\n",
        "\n",
        "    return state_1.conjugate().transpose().dot(state_2)\n",
        "\n",
        "\n",
        "# Test your results with this code\n",
        "ket_0 = np.array([1, 0])\n",
        "ket_1 = np.array([0, 1])\n",
        "\n",
        "print(f\"<0|0> = {inner_product(ket_0, ket_0)}\")\n",
        "print(f\"<0|1> = {inner_product(ket_0, ket_1)}\")\n",
        "print(f\"<1|0> = {inner_product(ket_1, ket_0)}\")\n",
        "print(f\"<1|1> = {inner_product(ket_1, ket_1)}\")\n",
        "\n",
        "print(f\"<state_2|state_1> = {inner_product(state_2, state_1)}\")\n",
        "print(f\"<state_2|state_1> = {np.sqrt(inner_product(state_2, state_1)*inner_product(state_2, state_1).conjugate())}\")\n"
      ],
      "metadata": {
        "colab": {
          "base_uri": "https://localhost:8080/"
        },
        "id": "gcFymuwNiOj_",
        "outputId": "b2df36bd-82b1-4aa8-d22a-61f0b22297a0"
      },
      "execution_count": null,
      "outputs": [
        {
          "output_type": "stream",
          "name": "stdout",
          "text": [
            "<0|0> = 1\n",
            "<0|1> = 0\n",
            "<1|0> = 0\n",
            "<1|1> = 1\n",
            "<state_2|state_1> = (0.565685424949238-0.42426406871192845j)\n",
            "<state_2|state_1> = (0.7071067811865475+0j)\n"
          ]
        }
      ]
    },
    {
      "cell_type": "markdown",
      "source": [
        "**Codercise I.1.3.** The function below takes a quantum state vector as input. Complete the function to simulate the outcomes of an arbitrary number of quantum measurements, i.e., return a list of samples  or  based on the probabilities given by the input state. \\\\\n",
        "\n",
        "The function np.random.choice will be helpful here: https://numpy.org/doc/stable/reference/random/generated/numpy.random.choice.html"
      ],
      "metadata": {
        "id": "LO_G4rDdWNLR"
      }
    },
    {
      "cell_type": "code",
      "source": [
        "state = np.array([0.8+0.j, 0.6+0.j])\n",
        "\n",
        "def measure_state(state, num_meas):\n",
        "    \"\"\"Simulate a quantum measurement process.\n",
        "\n",
        "    Args:\n",
        "        state (array[complex]): A normalized qubit state vector.\n",
        "        num_meas (int): The number of measurements to take\n",
        "\n",
        "    Returns:\n",
        "        array[int]: A set of num_meas samples, 0 or 1, chosen according to the probability\n",
        "        distribution defined by the input state.\n",
        "    \"\"\"\n",
        "\n",
        "    ##################\n",
        "    # YOUR CODE HERE #\n",
        "    ##################\n",
        "\n",
        "    # COMPUTE THE MEASUREMENT OUTCOME PROBABILITIES\n",
        "    alpha_2 = state[0].conjugate()*state[0]\n",
        "    beta_2 = state[1].conjugate()*state[1]\n",
        "    meas_dist = np.random.choice(2,num_meas,p=[alpha_2.real,beta_2.real])\n",
        "    # RETURN A LIST OF SAMPLE MEASUREMENT OUTCOMES\n",
        "\n",
        "    return meas_dist"
      ],
      "metadata": {
        "id": "satsnADzCiN0"
      },
      "execution_count": null,
      "outputs": []
    },
    {
      "cell_type": "code",
      "source": [
        "print(measure_state(state, 10))\n",
        "sum(measure_state(state, 10))"
      ],
      "metadata": {
        "colab": {
          "base_uri": "https://localhost:8080/"
        },
        "id": "d4c7BTbPDqE3",
        "outputId": "a49d03af-aaf1-4d5c-906a-fa331477dcd6"
      },
      "execution_count": null,
      "outputs": [
        {
          "output_type": "stream",
          "name": "stdout",
          "text": [
            "[1 0 0 0 0 0 0 0 0 0]\n"
          ]
        },
        {
          "output_type": "execute_result",
          "data": {
            "text/plain": [
              "tensor(4, requires_grad=True)"
            ]
          },
          "metadata": {},
          "execution_count": 7
        }
      ]
    },
    {
      "cell_type": "markdown",
      "source": [
        "**Codercise I.1.4.** Complete the function below to apply the provided quantum operation U to an input state."
      ],
      "metadata": {
        "id": "0UgFX8G-Xjhd"
      }
    },
    {
      "cell_type": "code",
      "source": [
        "U = np.array([[1, 1], [1, -1]]) / np.sqrt(2)\n",
        "\n",
        "def apply_u(state,U):\n",
        "    \"\"\"Apply a quantum operation.\n",
        "\n",
        "    Args:\n",
        "        state (array[complex]): A normalized quantum state vector.\n",
        "\n",
        "    Returns:\n",
        "        array[complex]: The output state after applying U.\n",
        "    \"\"\"\n",
        "\n",
        "    ##################\n",
        "    # YOUR CODE HERE #\n",
        "    ##################\n",
        "\n",
        "    # APPLY U TO THE INPUT STATE AND RETURN THE NEW STATE\n",
        "    new_state = U.dot(state)\n",
        "    return new_state"
      ],
      "metadata": {
        "id": "u-msLqqU3ofP"
      },
      "execution_count": null,
      "outputs": []
    },
    {
      "cell_type": "code",
      "source": [
        "state = np.array([1+2j,1-4j])\n",
        "\n",
        "print(state)\n",
        "print(apply_u(state,U))"
      ],
      "metadata": {
        "colab": {
          "base_uri": "https://localhost:8080/"
        },
        "id": "ZG-Q8h393rLW",
        "outputId": "1c998d81-ff7b-485b-98d2-6d297affa1b2"
      },
      "execution_count": null,
      "outputs": [
        {
          "output_type": "stream",
          "name": "stdout",
          "text": [
            "[1.+2.j 1.-4.j]\n",
            "[1.41421356-1.41421356j 0.        +4.24264069j]\n"
          ]
        }
      ]
    },
    {
      "cell_type": "markdown",
      "source": [
        "**Codercise I.1.5.** Use the functions below to simulate a quantum algorithm that does the following:\n",
        "\n",
        "Initialize a qubit in state\n",
        "Apply the provided operation U\n",
        "Simulate measuring the output state 100 times\n",
        "You'll have to complete a function for initialization, but we've provided functions for the other two."
      ],
      "metadata": {
        "id": "FgPlYckodnL4"
      }
    },
    {
      "cell_type": "code",
      "source": [
        "U = np.array([[1, 1], [1, -1]]) / np.sqrt(2)\n",
        "\n",
        "def initialize_state():\n",
        "    \"\"\"Prepare a qubit in state |0>.\n",
        "\n",
        "    Returns:\n",
        "        array[float]: the vector representation of state |0>.\n",
        "    \"\"\"\n",
        "\n",
        "    ##################\n",
        "    # YOUR CODE HERE #\n",
        "    ##################\n",
        "\n",
        "    # PREPARE THE STATE |0>\n",
        "    return np.array([1,0])\n",
        "\n",
        "\n",
        "def apply_u(state):\n",
        "    \"\"\"Apply a quantum operation.\"\"\"\n",
        "    return np.dot(U, state)\n",
        "\n",
        "\n",
        "def measure_state(state, num_meas):\n",
        "    \"\"\"Measure a quantum state num_meas times.\"\"\"\n",
        "    p_alpha = np.abs(state[0]) ** 2\n",
        "    p_beta = np.abs(state[1]) ** 2\n",
        "    print(p_alpha,p_beta)\n",
        "    meas_outcome = np.random.choice([0,1], p=[p_alpha, p_beta], size=num_meas)\n",
        "    return meas_outcome\n",
        "\n",
        "\n",
        "def quantum_algorithm():\n",
        "    \"\"\"Use the functions above to implement the quantum algorithm described above.\n",
        "\n",
        "    Try and do so using three lines of code or less!\n",
        "\n",
        "    Returns:\n",
        "        array[int]: the measurement results after running the algorithm 100 times\n",
        "    \"\"\"\n",
        "\n",
        "    ##################\n",
        "    # YOUR CODE HERE #\n",
        "    ##################\n",
        "\n",
        "    # PREPARE THE STATE, APPLY U, THEN TAKE 100 MEASUREMENT SAMPLES\n",
        "    state = initialize_state()\n",
        "    state = apply_u(state)\n",
        "    ms = measure_state(state, 100)\n",
        "    return ms\n"
      ],
      "metadata": {
        "id": "QZGoqdY-dpb5"
      },
      "execution_count": null,
      "outputs": []
    },
    {
      "cell_type": "code",
      "source": [
        "resp = quantum_algorithm()\n",
        "print(resp)\n",
        "print(sum(resp))"
      ],
      "metadata": {
        "colab": {
          "base_uri": "https://localhost:8080/"
        },
        "id": "toHjCrRYdy_Q",
        "outputId": "bd488455-0a7f-4a9f-e04d-e6404ca66ccd"
      },
      "execution_count": null,
      "outputs": [
        {
          "output_type": "stream",
          "name": "stdout",
          "text": [
            "0.4999999999999999 0.4999999999999999\n",
            "[0 1 1 1 1 0 0 0 1 0 0 1 1 0 0 1 0 1 0 0 0 1 1 0 1 0 0 1 1 0 1 1 1 1 1 0 0\n",
            " 1 1 1 1 0 0 0 0 1 0 1 1 0 1 0 0 0 0 1 1 0 0 1 1 0 1 1 1 1 1 1 1 1 0 0 1 1\n",
            " 1 0 0 0 0 1 0 1 1 1 1 0 1 0 0 0 0 0 1 1 1 0 1 1 0 1]\n",
            "54\n"
          ]
        }
      ]
    },
    {
      "cell_type": "code",
      "source": [
        "dev = qml.device(\"default.qubit\", wires=3)\n",
        "# U para 10\n",
        "U = np.array([[1,0,0,0,0,0,0,0],\n",
        "              [0,1,0,0,0,0,0,0],\n",
        "              [0,0,1,0,0,0,0,0],\n",
        "              [0,0,0,1,0,0,0,0],\n",
        "              [0,0,0,0,0,1,0,0],\n",
        "              [0,0,0,0,1,0,0,0],\n",
        "              [0,0,0,0,0,0,1,0],\n",
        "              [0,0,0,0,0,0,0,1]\n",
        "              ])\n",
        "\n",
        "\n",
        "def my_circuit():\n",
        "    ##################\n",
        "    # YOUR CODE HERE #\n",
        "    ##################\n",
        "\n",
        "    # REORDER THESE 5 GATES TO MATCH THE CIRCUIT IN THE PICTURE\n",
        "\n",
        "\n",
        "    #qml.Hadamard(wires=0)\n",
        "    qml.PauliX(wires=2)\n",
        "    qml.Hadamard(wires=2)\n",
        "    qml.QubitUnitary(U, wires=[0,1,2])\n",
        "    #qml.CNOT(wires=[0, 1])\n",
        "\n",
        "    # This is the measurement; we return the probabilities of all possible output states\n",
        "    # You'll learn more about what types of measurements are available in a later node\n",
        "\n",
        "    return qml.probs(wires=[0, 1])\n",
        "\n",
        "\n",
        "#cria um nó para conecter o dispositivo ao circuito criado\n",
        "my_qnode = qml.QNode(my_circuit, dev)\n",
        "\n",
        "print(my_qnode())"
      ],
      "metadata": {
        "colab": {
          "base_uri": "https://localhost:8080/"
        },
        "id": "VYxUZ1_RhVWW",
        "outputId": "e4e7eec2-a3aa-4d51-eafe-9c6c285d88a7"
      },
      "execution_count": null,
      "outputs": [
        {
          "output_type": "stream",
          "name": "stdout",
          "text": [
            "[1. 0. 0. 0.]\n"
          ]
        }
      ]
    },
    {
      "cell_type": "markdown",
      "source": [
        "**Codercise I.2.1.** The code below is a quantum function with all the gates from the above circuit (which we reproduce here for convenience). However, the gates are out of order! Re-arrange the lines of the function to match the order of operations in the circuit.\n",
        "![image.png](data:image/png;base64,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)"
      ],
      "metadata": {
        "id": "9sjM4XztYIWC"
      }
    },
    {
      "cell_type": "code",
      "source": [
        "dev = qml.device(\"default.qubit\", wires=3)\n",
        "\n",
        "def my_circuit(theta, phi):\n",
        "    ##################\n",
        "    # YOUR CODE HERE #\n",
        "    ##################\n",
        "\n",
        "    # REORDER THESE 5 GATES TO MATCH THE CIRCUIT IN THE PICTURE\n",
        "\n",
        "    qml.CNOT(wires=[0, 1])\n",
        "    qml.Hadamard(wires=0)\n",
        "    qml.RX(theta, wires=2)\n",
        "    qml.CNOT(wires=[2, 0])\n",
        "    qml.RY(phi, wires=1)\n",
        "\n",
        "    # This is the measurement; we return the probabilities of all possible output states\n",
        "    # You'll learn more about what types of measurements are available in a later node\n",
        "    return qml.probs(wires=[0, 1, 2])\n",
        "\n",
        "#varios valores para theta e phi de 0 a 2*pi\n",
        "theta = np.linspace(0, 2*np.pi, num=3)\n",
        "phi = np.linspace(0, 2*np.pi, num=3)\n",
        "\n",
        "#cria um nó para conecter o dispositivo ao circuito criado\n",
        "my_qnode = qml.QNode(my_circuit, dev)\n",
        "\n",
        "print(my_qnode(theta,phi)[0])\n",
        "print(my_qnode(theta,phi)[1])\n",
        "print(my_qnode(theta,phi)[2])\n",
        "\n"
      ],
      "metadata": {
        "colab": {
          "base_uri": "https://localhost:8080/"
        },
        "id": "IoqCO8RmYK8C",
        "outputId": "ca2b62ec-7557-4e7c-c40e-52fcf6162fec"
      },
      "execution_count": null,
      "outputs": [
        {
          "output_type": "stream",
          "name": "stdout",
          "text": [
            "[0.5 0.  0.  0.  0.5 0.  0.  0. ]\n",
            "[7.02899814e-66 1.87469973e-33 1.87469973e-33 5.00000000e-01\n",
            " 7.02899814e-66 1.87469973e-33 1.87469973e-33 5.00000000e-01]\n",
            "[5.00000000e-01 7.49879891e-33 7.49879891e-33 1.12463970e-64\n",
            " 5.00000000e-01 7.49879891e-33 7.49879891e-33 1.12463970e-64]\n"
          ]
        }
      ]
    },
    {
      "cell_type": "markdown",
      "source": [
        "**Codercise I.2.2.** Complete the quantum function in the PennyLane code below to implement the following quantum circuit. We'll then construct a QNode, and run the circuit on the provided device \\\\\n",
        "The mapping between the parameters in the circuit diagram and the parameters of the circuit in the code are θ -> theta, ϕ -> phi, ω and  omega.\n",
        "![image.png](data:image/png;base64,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)"
      ],
      "metadata": {
        "id": "zmppqaGh3WEq"
      }
    },
    {
      "cell_type": "code",
      "source": [
        "# This creates a device with three wires on which PennyLane can run computations\n",
        "dev = qml.device(\"default.qubit\", wires=3)\n",
        "\n",
        "\n",
        "def my_circuit(theta, phi, omega):\n",
        "\n",
        "    ##################\n",
        "    # YOUR CODE HERE #\n",
        "    ##################\n",
        "\n",
        "    # IMPLEMENT THE CIRCUIT BY ADDING THE GATES\n",
        "\n",
        "    # Here are two examples, so you can see the format:\n",
        "    # qml.CNOT(wires=[0, 1])\n",
        "    # qml.RX(theta, wires=0)\n",
        "    qml.RX(theta,wires=0)\n",
        "    qml.RY(phi,wires=1)\n",
        "    qml.RZ(omega,wires=[2])\n",
        "    qml.CNOT(wires=[0,1])\n",
        "    qml.CNOT(wires=[1,2])\n",
        "    qml.CNOT(wires=[2,0])\n",
        "\n",
        "\n",
        "\n",
        "\n",
        "    return qml.probs(wires=[0, 1, 2])\n",
        "\n",
        "# This creates a QNode, binding the function and device\n",
        "my_qnode = qml.QNode(my_circuit, dev)\n",
        "\n",
        "# We set up some values for the input parameters\n",
        "theta, phi, omega = 0.1, 0.2, 0.3\n",
        "\n",
        "# Now we can execute the QNode by calling it like we would a regular function\n",
        "my_qnode(theta, phi, omega)"
      ],
      "metadata": {
        "colab": {
          "base_uri": "https://localhost:8080/"
        },
        "id": "C5wcOq--NK97",
        "outputId": "dc651c85-1ffb-4680-b04c-cf2152b67e0f"
      },
      "execution_count": null,
      "outputs": [
        {
          "output_type": "execute_result",
          "data": {
            "text/plain": [
              "tensor([9.87560268e-01, 0.00000000e+00, 0.00000000e+00, 2.47302134e-03,\n",
              "        2.48960206e-05, 0.00000000e+00, 0.00000000e+00, 9.94181506e-03], requires_grad=True)"
            ]
          },
          "metadata": {},
          "execution_count": 7
        }
      ]
    },
    {
      "cell_type": "markdown",
      "source": [
        "**Codercise I.2.3.** The quantum function below implements the circuit from the previous exercise. Apply a decorator to the quantum function to construct a QNode, then run it using the provided input parameters."
      ],
      "metadata": {
        "id": "qzuCPY7o4sR_"
      }
    },
    {
      "cell_type": "code",
      "source": [
        "# This creates a device with three wires on which PennyLane can run computations\n",
        "dev = qml.device(\"default.qubit\", wires=3)\n",
        "\n",
        "@qml.qnode(dev) #automaticamente cria um Node utiliando a função do circuito logo abaixo\n",
        "def my_circuit(theta, phi, omega):\n",
        "\n",
        "    ##################\n",
        "    # YOUR CODE HERE #\n",
        "    ##################\n",
        "\n",
        "    # IMPLEMENT THE CIRCUIT BY ADDING THE GATES\n",
        "\n",
        "    # Here are two examples, so you can see the format:\n",
        "    # qml.CNOT(wires=[0, 1])\n",
        "    # qml.RX(theta, wires=0)\n",
        "    qml.RX(theta,wires=0)\n",
        "    qml.RY(phi,wires=1)\n",
        "    qml.RZ(omega,wires=[2])\n",
        "    qml.CNOT(wires=[0,1])\n",
        "    qml.CNOT(wires=[1,2])\n",
        "    qml.CNOT(wires=[2,0])\n",
        "\n",
        "\n",
        "\n",
        "\n",
        "    return qml.probs(wires=[0, 1, 2])\n",
        "\n",
        "\n",
        "\n",
        "# We set up some values for the input parameters\n",
        "theta, phi, omega = 0.1, 0.2, 0.3\n",
        "\n",
        "# Now we can execute the QNode by calling it like we would a regular function\n",
        "\n",
        "my_circuit(theta, phi, omega)"
      ],
      "metadata": {
        "colab": {
          "base_uri": "https://localhost:8080/"
        },
        "id": "17BFEMpdU1CB",
        "outputId": "58f9003d-0894-48b4-f81a-96676d91ecac"
      },
      "execution_count": null,
      "outputs": [
        {
          "output_type": "execute_result",
          "data": {
            "text/plain": [
              "tensor([9.87560268e-01, 0.00000000e+00, 0.00000000e+00, 2.47302134e-03,\n",
              "        2.48960206e-05, 0.00000000e+00, 0.00000000e+00, 9.94181506e-03], requires_grad=True)"
            ]
          },
          "metadata": {},
          "execution_count": 42
        }
      ]
    },
    {
      "cell_type": "markdown",
      "source": [
        "**Codercise I.2.4.** What is the depth of the circuit in the picture below? \\\\\n",
        "A: 4  \\\\\n",
        "![image.png](data:image/png;base64,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)"
      ],
      "metadata": {
        "id": "iGywAupug2jq"
      }
    },
    {
      "cell_type": "markdown",
      "source": [
        "# Uso do `resource_calculator = qml.specs(my_circuit)`"
      ],
      "metadata": {
        "id": "-nWxVli15eWE"
      }
    },
    {
      "cell_type": "code",
      "source": [
        "\n",
        "\n",
        "\n",
        "# This creates a device with three wires on which PennyLane can run computations\n",
        "dev = qml.device(\"default.qubit\", wires=3)\n",
        "\n",
        "@qml.qnode(dev) #automaticamente cria um Node utiliando a função do circuito logo abaixo\n",
        "def my_circuit(theta, phi, omega):\n",
        "\n",
        "    ##################\n",
        "    # YOUR CODE HERE #\n",
        "    ##################\n",
        "\n",
        "    # IMPLEMENT THE CIRCUIT BY ADDING THE GATES\n",
        "\n",
        "    # Here are two examples, so you can see the format:\n",
        "    # qml.CNOT(wires=[0, 1])\n",
        "    # qml.RX(theta, wires=0)\n",
        "    qml.RX(theta,wires=0)\n",
        "    qml.RY(phi,wires=1)\n",
        "    qml.RZ(omega,wires=[2])\n",
        "    qml.CNOT(wires=[0,1])\n",
        "    qml.CNOT(wires=[1,2])\n",
        "    qml.CNOT(wires=[2,0])\n",
        "\n",
        "\n",
        "\n",
        "\n",
        "    return qml.probs(wires=[0, 1, 2])\n",
        "\n",
        "# This creates a QNode, binding the function and device\n",
        "#my_qnode = qml.QNode(my_circuit, dev)\n",
        "\n",
        "# We set up some values for the input parameters\n",
        "theta, phi, omega = 0.1, 0.2, 0.3\n",
        "\n",
        "# Now we can execute the QNode by calling it like we would a regular function\n",
        "\n",
        "my_circuit(theta, phi, omega)\n",
        "\n",
        "# resource_calculator will compute the resources of the QNode `my_qnode`\n",
        "resource_calculator = qml.specs(my_circuit)\n",
        "\n",
        "# we pass it the same parameters as the original QNode\n",
        "theta, phi, omega = 0.1, 0.2, 0.3\n",
        "print(resource_calculator(theta, phi, omega)['resources'])"
      ],
      "metadata": {
        "colab": {
          "base_uri": "https://localhost:8080/"
        },
        "id": "sIBQrSA05T18",
        "outputId": "cb17c0fe-3183-438c-8e04-de64a7a8ab94"
      },
      "execution_count": null,
      "outputs": [
        {
          "output_type": "stream",
          "name": "stdout",
          "text": [
            "wires: 3\n",
            "gates: 6\n",
            "depth: 4\n",
            "shots: Shots(total=None)\n",
            "gate_types:\n",
            "{'RX': 1, 'RY': 1, 'RZ': 1, 'CNOT': 3}\n",
            "gate_sizes:\n",
            "{1: 3, 2: 3}\n"
          ]
        }
      ]
    },
    {
      "cell_type": "markdown",
      "source": [
        "**Codercise I.3.1.** Complete the quantum function below to create a circuit that applies U to the qubit and returns its state. (Compare this to the earlier function apply_u that you wrote - isn't it nice to not have to worry about the matrix arithmetic?) \\\\\n",
        "\n",
        "$$"
      ],
      "metadata": {
        "id": "5iAdp1L14oZ4"
      }
    },
    {
      "cell_type": "code",
      "source": [
        "dev = qml.device(\"default.qubit\", wires=1) #wires = 1 é a quantidade de fios\n",
        "\n",
        "U = np.array([[1, 1], [1, -1]]) / np.sqrt(2)\n",
        "\n",
        "@qml.qnode(dev)\n",
        "def apply_u(U):\n",
        "\n",
        "    ##################\n",
        "    # YOUR CODE HERE #\n",
        "    ##################\n",
        "\n",
        "    # USE QubitUnitary TO APPLY U TO THE QUBIT\n",
        "\n",
        "    qml.QubitUnitary(U, wires=0)#wires = 0 é o índice do fio\n",
        "\n",
        "    # Return the state\n",
        "    return qml.state()\n",
        "\n",
        "\n",
        "print(apply_u(U))\n",
        "#obseserve que nossa porta unitária U é a mesma porta de Hadamard para o etado |0>"
      ],
      "metadata": {
        "id": "CuBM-zZEtK1g",
        "colab": {
          "base_uri": "https://localhost:8080/"
        },
        "outputId": "64ab94cf-d063-4b19-ce3c-7ca21522a684"
      },
      "execution_count": null,
      "outputs": [
        {
          "output_type": "stream",
          "name": "stdout",
          "text": [
            "[0.70710678+0.j 0.70710678+0.j]\n"
          ]
        }
      ]
    },
    {
      "cell_type": "code",
      "source": [
        "#imprimindo como tensor\n",
        "#O código acima está assumindo um qubi no estado |0>\n",
        "\n",
        "apply_u(U)"
      ],
      "metadata": {
        "colab": {
          "base_uri": "https://localhost:8080/"
        },
        "id": "sXCSH2u4tQq8",
        "outputId": "1115d5a9-fe49-47b6-f9c5-815774e8a519"
      },
      "execution_count": null,
      "outputs": [
        {
          "output_type": "execute_result",
          "data": {
            "text/plain": [
              "tensor([0.70710678+0.j, 0.70710678+0.j], requires_grad=True)"
            ]
          },
          "metadata": {},
          "execution_count": 28
        }
      ]
    },
    {
      "cell_type": "markdown",
      "source": [
        "**Codercise I.3.2.** Apply the `Rot` operation to a qubit using the input parameters. Then, complete the `QNode` to return the quantum state vector, using `qml.state()`."
      ],
      "metadata": {
        "id": "AF7EkXbfk2Xv"
      }
    },
    {
      "cell_type": "code",
      "source": [
        "dev = qml.device(\"default.qubit\", wires=1)\n",
        "\n",
        "@qml.qnode(dev)\n",
        "def apply_u_as_rot(phi, theta, omega):\n",
        "\n",
        "    ##################\n",
        "    # YOUR CODE HERE #\n",
        "    ##################\n",
        "\n",
        "    # APPLY A ROT GATE USING THE PROVIDED INPUT PARAMETERS\n",
        "    qml.Rot(phi, theta, omega, wires=0)\n",
        "\n",
        "    # RETURN THE QUANTUM STATE VECTOR\n",
        "\n",
        "    return qml.state()"
      ],
      "metadata": {
        "id": "t60Xh2aSu_kr"
      },
      "execution_count": null,
      "outputs": []
    },
    {
      "cell_type": "code",
      "source": [
        "#O código acima está assumindo um qubi no estado |0>\n",
        "\n",
        "apply_u_as_rot(0.2,0.3,0.4)"
      ],
      "metadata": {
        "colab": {
          "base_uri": "https://localhost:8080/"
        },
        "id": "7o8nHzT2vcPs",
        "outputId": "bb38d20c-aa8a-4edb-ad95-f3e52297c513"
      },
      "execution_count": null,
      "outputs": [
        {
          "output_type": "execute_result",
          "data": {
            "text/plain": [
              "tensor([0.94460909-0.29220183j, 0.14869156+0.01491892j], requires_grad=True)"
            ]
          },
          "metadata": {},
          "execution_count": 26
        }
      ]
    },
    {
      "cell_type": "markdown",
      "source": [
        "**Codercise I.4.1.** A common use of the $X$ gate is in initializing the state of a qubit at the beginning of an algorithm. Quite often, we would like our qubits to start in state $|0>$ (which is the default in PennyLane), however there are many cases where we instead would like to start from $|1>$. Complete the function below by using `qml.PauliX` to initialize the qubit's state to $|0>$ or $|1>$ based on an input flag. Then, use `qml.QubitUnitary` to apply the provided U."
      ],
      "metadata": {
        "id": "wy8ZgI1kPQ_U"
      }
    },
    {
      "cell_type": "code",
      "source": [
        "dev = qml.device(\"default.qubit\", wires=1)\n",
        "\n",
        "U = np.array([[1, 1], [1, -1]]) / np.sqrt(2)\n",
        "\n",
        "@qml.qnode(dev)\n",
        "def varied_initial_state(state):\n",
        "    \"\"\"Complete the function such that we can apply the operation U to\n",
        "    either |0> or |1> depending on the input argument flag.\n",
        "\n",
        "    Args:\n",
        "        state (int): Either 0 or 1. If 1, prepare the qubit in state |1>,\n",
        "            otherwise, leave it in state 0.\n",
        "\n",
        "    Returns:\n",
        "        array[complex]: The state of the qubit after the operations.\n",
        "    \"\"\"\n",
        "    ##################\n",
        "    # YOUR CODE HERE #\n",
        "    ##################\n",
        "\n",
        "    # KEEP THE QUBIT IN |0> OR CHANGE IT TO |1> DEPENDING ON THE state PARAMETER\n",
        "\n",
        "    if state == 1:\n",
        "      qml.PauliX(wires=0)\n",
        "\n",
        "    # APPLY U TO THE STATE\n",
        "    qml.QubitUnitary(U,wires=0)\n",
        "\n",
        "    return qml.state()\n",
        "\n",
        "\n",
        "state = 1\n",
        "\n",
        "varied_initial_state(state)"
      ],
      "metadata": {
        "colab": {
          "base_uri": "https://localhost:8080/"
        },
        "id": "JYCZr5gbPMPl",
        "outputId": "6ba89919-c4e6-4bd8-d02d-5b4e7d19abfe"
      },
      "execution_count": null,
      "outputs": [
        {
          "output_type": "execute_result",
          "data": {
            "text/plain": [
              "tensor([ 0.70710678+0.j, -0.70710678+0.j], requires_grad=True)"
            ]
          },
          "metadata": {},
          "execution_count": 28
        }
      ]
    },
    {
      "cell_type": "markdown",
      "source": [
        "**Codercise I.4.2.** What do you think is meant by uniform superposition? Let's explore this using PennyLane. Complete the quantum function below such that it:\n",
        "\n",
        "1. applies a Hadamard gate to the qubit,\n",
        "2. returns the state of the qubit with `qml.state`."
      ],
      "metadata": {
        "id": "GcGNxS1GY_QZ"
      }
    },
    {
      "cell_type": "code",
      "source": [
        "dev = qml.device(\"default.qubit\", wires=1)\n",
        "\n",
        "@qml.qnode(dev)\n",
        "def apply_hadamard():\n",
        "    ##################\n",
        "    # YOUR CODE HERE #\n",
        "    ##################\n",
        "\n",
        "    # APPLY THE HADAMARD GATE\n",
        "    qml.Hadamard(wires=0)\n",
        "    # RETURN THE STATE\n",
        "    return qml.state()\n",
        "\n",
        "\n",
        "apply_hadamard()"
      ],
      "metadata": {
        "colab": {
          "base_uri": "https://localhost:8080/"
        },
        "id": "uTEEnwc4ZAai",
        "outputId": "813bfdd0-d237-4d18-9f3d-4ddd6a5c2262"
      },
      "execution_count": null,
      "outputs": [
        {
          "output_type": "execute_result",
          "data": {
            "text/plain": [
              "tensor([0.70710678+0.j, 0.70710678+0.j], requires_grad=True)"
            ]
          },
          "metadata": {},
          "execution_count": 29
        }
      ]
    },
    {
      "cell_type": "markdown",
      "source": [
        "**Codercise I.4.3.** Combining your code from **codercises I.4.1**, and **I.4.2**, apply the Hadamard gate to both $|0>$ and $|1>$. What do the two different output states look like? Do you notice anything special about them?"
      ],
      "metadata": {
        "id": "mrpWdv1YZ7Py"
      }
    },
    {
      "cell_type": "code",
      "source": [
        "dev = qml.device(\"default.qubit\", wires=1)\n",
        "\n",
        "@qml.qnode(dev)\n",
        "def apply_hadamard_to_state(state):\n",
        "    \"\"\"Complete the function such that we can apply the Hadamard to\n",
        "    either |0> or |1> depending on the input argument flag.\n",
        "\n",
        "    Args:\n",
        "        state (int): Either 0 or 1. If 1, prepare the qubit in state |1>,\n",
        "            otherwise, leave it in state 0.\n",
        "\n",
        "    Returns:\n",
        "        array[complex]: The state of the qubit after the operations.\n",
        "    \"\"\"\n",
        "    ##################\n",
        "    # YOUR CODE HERE #\n",
        "    ##################\n",
        "\n",
        "    # KEEP THE QUBIT IN |0> OR CHANGE IT TO |1> DEPENDING ON state\n",
        "    if state == 1:\n",
        "      qml.PauliX(wires=0)\n",
        "\n",
        "    # APPLY THE HADAMARD\n",
        "    qml.Hadamard(wires=0)\n",
        "\n",
        "    # RETURN THE STATE\n",
        "\n",
        "    return qml.state()\n",
        "\n",
        "print(apply_hadamard_to_state(0))\n",
        "print(apply_hadamard_to_state(1))"
      ],
      "metadata": {
        "colab": {
          "base_uri": "https://localhost:8080/"
        },
        "id": "QRwIVr6jZ8jp",
        "outputId": "5a2d79e2-505c-41b8-b9ea-3d2e1907e536"
      },
      "execution_count": null,
      "outputs": [
        {
          "output_type": "stream",
          "name": "stdout",
          "text": [
            "[0.70710678+0.j 0.70710678+0.j]\n",
            "[ 0.70710678+0.j -0.70710678+0.j]\n"
          ]
        }
      ]
    },
    {
      "cell_type": "markdown",
      "source": [
        "Codercise I.4.4. Now let's combine what we've just learned. Create a device with one qubit. Then, write a QNode (from scratch!) that applies the following circuit and returns the state.\n",
        "\n",
        "![image.png](data:image/png;base64,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)\n",
        "\n",
        "\\\\\n",
        "\n",
        "Determine its effect on the two basis states. What do you think this operation does? (We'll discuss this further in the next node).\n",
        "\n",
        "The signature of your function should be:\n",
        "\n",
        "```def apply_hxh(state):```\n",
        "    ```...```\n",
        "    ```return qml.state()```"
      ],
      "metadata": {
        "id": "N7EWvIYmbIAB"
      }
    },
    {
      "cell_type": "code",
      "source": [
        "dev = qml.device(\"default.qubit\", wires=1)\n",
        "\n",
        "@qml.qnode(dev)\n",
        "def apply_hxh(state):\n",
        "\n",
        "  if state == 1:\n",
        "      qml.PauliX(wires=0)\n",
        "  #applying H gate...\n",
        "  qml.Hadamard(wires=0)\n",
        "  #applying X gate...\n",
        "  qml.PauliX(wires=0)\n",
        "  #applying H gate...\n",
        "  qml.Hadamard(wires=0)\n",
        "  #applying a measurer...\n",
        "  #qml.measure(0)\n",
        "\n",
        "  return qml.state()\n",
        "\n",
        "\n",
        "print(apply_hxh(0))\n",
        "print(apply_hxh(1))"
      ],
      "metadata": {
        "colab": {
          "base_uri": "https://localhost:8080/"
        },
        "id": "leZo71Flbj9T",
        "outputId": "c5d50ec8-7fb8-4f97-dd3d-547d4552347e"
      },
      "execution_count": null,
      "outputs": [
        {
          "output_type": "stream",
          "name": "stdout",
          "text": [
            "[1.+0.j 0.+0.j]\n",
            "[ 0.+0.j -1.+0.j]\n"
          ]
        }
      ]
    },
    {
      "cell_type": "markdown",
      "source": [
        "**Codercise I.5.1.** Write a QNode that applies qml.PauliZ to the  $|+>$ state and returns the state. What state is this? How do the measurement probabilities differ from those of $|+>$?\n",
        "\n",
        "![image.png](data:image/png;base64,iVBORw0KGgoAAAANSUhEUgAAABwAAAAMCAYAAABx290PAAAA9klEQVQ4Ec2UMQqDQBBF9wweRbCKh7BWEMFOG/ESlrbxAMbSwkq2EMEmhaROWmt7/SCGFRGUVReSQBam2JlhHvP/soQcHEmS7p7nvURD0zR6MO68pKrqbRxHiIZt24/zqQcdfwEMwxBpmqIoCriui7quFwW+vuEwDMiybALEcYwgCBYYk10UqBJCuKEoCuX5l+c5fN9fwVifaZrPvVlz/sIc5MJYngesqgqO40ywpmlWUFHg7rPZPhrml2VZYNK2bYuyLFdAUUmFgH3fwzAMUEqRJAl0XUfXdb8D8rzc5r664XY47/4xUJblq+i3xvqiKIp2/ZkLb4Cd+wzV2atLAAAAAElFTkSuQmCC)"
      ],
      "metadata": {
        "id": "k-m9G2BXF1tz"
      }
    },
    {
      "cell_type": "code",
      "source": [
        "dev = qml.device(\"default.qubit\", wires=1)\n",
        "\n",
        "@qml.qnode(dev)\n",
        "def apply_z_to_plus():\n",
        "    \"\"\"Write a circuit that applies PauliZ to the |+> state and returns\n",
        "    the state.\n",
        "\n",
        "    Returns:\n",
        "        array[complex]: The state of the qubit after the operations.\n",
        "    \"\"\"\n",
        "\n",
        "    ##################\n",
        "    # YOUR CODE HERE #\n",
        "    ##################\n",
        "\n",
        "    # CREATE THE |+> STATE\n",
        "    qml.Hadamard(wires=0)\n",
        "    # APPLY PAULI Z\n",
        "    qml.PauliZ(wires=0)\n",
        "    # RETURN THE STATE\n",
        "    return qml.state()\n",
        "\n",
        "print(apply_z_to_plus())\n"
      ],
      "metadata": {
        "colab": {
          "base_uri": "https://localhost:8080/"
        },
        "id": "itMycPtbF3ND",
        "outputId": "301875f4-b707-4d3c-af71-3eafac548958"
      },
      "execution_count": null,
      "outputs": [
        {
          "output_type": "stream",
          "name": "stdout",
          "text": [
            "[ 0.70710678+0.j -0.70710678+0.j]\n"
          ]
        }
      ]
    },
    {
      "cell_type": "markdown",
      "source": [
        "**Codercise I.5.2.** Write a QNode that uses `qml.RZ` to simulate a `qml.PauliZ` operation and return the state. Apply it to the  $|+>$ state to check your work.\n",
        "\n"
      ],
      "metadata": {
        "id": "94YBZ8PdH-gL"
      }
    },
    {
      "cell_type": "code",
      "source": [
        "dev = qml.device(\"default.qubit\", wires=1)\n",
        "\n",
        "@qml.qnode(dev)\n",
        "def fake_z():\n",
        "    \"\"\"Use RZ to produce the same action as Pauli Z on the |+> state.\n",
        "\n",
        "    Returns:\n",
        "        array[complex]: The state of the qubit after the operations.\n",
        "    \"\"\"\n",
        "\n",
        "    ##################\n",
        "    # YOUR CODE HERE #\n",
        "    ##################\n",
        "\n",
        "    # CREATE THE |+> STATE\n",
        "    qml.Hadamard(wires=0)\n",
        "\n",
        "    # APPLY RZ\n",
        "    qml.RZ(np.pi,wires=0)\n",
        "\n",
        "    # RETURN THE STATE\n",
        "    return qml.state()\n",
        "\n",
        "print(fake_z())"
      ],
      "metadata": {
        "colab": {
          "base_uri": "https://localhost:8080/"
        },
        "id": "gP0-gJgzIFW9",
        "outputId": "1c36757d-4a48-4e5f-989c-b825ed2cf210"
      },
      "execution_count": null,
      "outputs": [
        {
          "output_type": "stream",
          "name": "stdout",
          "text": [
            "[4.32978028e-17-0.70710678j 4.32978028e-17+0.70710678j]\n"
          ]
        }
      ]
    },
    {
      "cell_type": "markdown",
      "source": [
        "**Codercise I.5.3.** Adjoints in PennyLane can be computed by applying the `qml.adjoint` transform to an operation before specifying its parameters and wires. For example, \\\\\n",
        "\n",
        "`qml.adjoint(qml.RZ)(phi, wires=0)` \\\\\n",
        "\n",
        "performs the same computation as `qml.RZ(-phi, wires=0)`. Implement the circuit below, using adjoints when necessary, and return the quantum state.\n",
        "\n",
        "![image.png](data:image/png;base64,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)"
      ],
      "metadata": {
        "id": "chCtySJ0Js1b"
      }
    },
    {
      "cell_type": "code",
      "source": [
        "dev = qml.device(\"default.qubit\", wires=1)\n",
        "\n",
        "@qml.qnode(dev)\n",
        "def many_rotations():\n",
        "    \"\"\"Implement the circuit depicted above and return the quantum state.\n",
        "\n",
        "    Returns:\n",
        "        array[complex]: The state of the qubit after the operations.\n",
        "    \"\"\"\n",
        "\n",
        "    ##################\n",
        "    # YOUR CODE HERE #\n",
        "    ##################\n",
        "\n",
        "    # IMPLEMENT THE CIRCUIT\n",
        "    qml.Hadamard(wires=0)\n",
        "    qml.S(wires=0)\n",
        "    qml.adjoint(qml.T)(wires=0)\n",
        "    qml.RZ(0.3,wires=0)\n",
        "    qml.adjoint(qml.S)(wires=0)\n",
        "    # RETURN THE STATE\n",
        "\n",
        "    return qml.state()\n",
        "\n",
        "print(many_rotations())\n"
      ],
      "metadata": {
        "colab": {
          "base_uri": "https://localhost:8080/"
        },
        "id": "hHXPFgkDJuls",
        "outputId": "4126d8cb-d8e0-4313-fe0f-5138b7d2bdb0"
      },
      "execution_count": null,
      "outputs": [
        {
          "output_type": "stream",
          "name": "stdout",
          "text": [
            "[0.69916673-0.10566872j 0.56910461-0.41966647j]\n"
          ]
        }
      ]
    },
    {
      "cell_type": "markdown",
      "source": [
        "Codercise I.5.4. The $T$ gate plays an important role in more advanced quantum computing topics; specifically, it is a required operation in some fault-tolerant frameworks. However, it is much more resource intensive to implement in those frameworks than other gates, and therefore a common task in quantum circuit design is minimization of the $T$-count and $T$-depth (i.e., the number of layers of depth in a circuit which contain a $T$/$T^{\\dagger}$). Many such tools for optimizing quantum circuits are automated, however we can work out a simple example by hand. Suppose that we want to implement the following circuit:\n",
        "\n",
        "![image.png](data:image/png;base64,iVBORw0KGgoAAAANSUhEUgAAAL4AAAAuCAYAAACWEqPeAAAOyklEQVR4Ae1d+Y8U1RYe+AmSaXu6a+uenj+AxB815PHYHosmbsGAAWQ1aAQCYR0i72kCQeD5eICENaCyEyDwwIDKDgoi+yIDyDIssjM4DNsAg+B9fldOcafoW33vUHYPWDfpvtVVdb8+99RX556qOqduXl6GUrdu3aqioqJylU9hYeHVaDS6RwZZp04dZaxUKgWsEhlWJBIpVZEJ+6RSqfJIJHLEB+sw9lHFy8/PL5VhRaPRA5BdFSsSiZzywdoNnWpgnZRh1db1BQUF6x3HqVDtYzQaPZ2Vvti2fZEplqtXr7JkMnlYJphpmhcUoditW7eY4zjHfbDOPnjwQAmuqqqK2bYtVZjjOKfu3LmjhIWdTNM8J5PLcZxjN27cyIi1Zs0avo9lWRdlWMlk8tAvv/yijIVjJcOqretTqdTW48ePZ+wj7ZBMJsuy0peQ+KTyR/WTEv/o0aPss88+YxcuXGBPSvxjx45xrHPnzuHkDokf1FnhJT4UvGnTJnbo0CF+4LBcUlLCWaFr8ffv38+xgEGfu3fvcixdi3/gwAEXg7Bu377NsXQt/qVLlzgW5CsrK+PLe/fudZmvQ3zoieShGn2bP38+x9Mh/uHDhx/DwuhCWM8C8SsqKngfd+7cya5fv86Xt23b5uo+pxa/ffv2riBvvfWWu6xD/Pv377NPP/2Ut+3QoQOvN2zYwGpC/N9++41NmDChGtZ3333Hbt68ydfpEh+NSCYst23bluPQlw7xx40bxyBfp06dGPq8e/dudvnyZfb5559zOB3ijx8/nmN17dqVoU842WGIMHqgPAvERz/efvtt3k9avnfvHu8fvoIk/j/y8vKkH9u2y91/ZYz9+OOPDAcTBdZs2LBh7mYQP5FIwJdOi2cYhuuwwnf99ddfGXzrbt26cQxYVyqwirZtw5dOi2WaZhn5+LASIALwOnfuzCGuXLlCUHybZVmXZFggjOjjX7x4kX344Ye8PUjar18/FwsLpmle8cE6Rz5+ZWWle/KRsQAeyqpVq3htmma5DAu6JB8fBgEWEIWMDfqIk+qrr77i63GsZFi1dX0ymSwRfXz089133+X9wTJOArEkk8mKAPrSHB7RJr+PaZpV4h9PnDiRzZkzhw9BEBDDNxUQ37btShlePB6vhoV2aD9lyhSCcGsQ37Ks2zIswzDuEvGp0ffff++OIrQONU4K0zTvyrAsy7ojEn/evHls8uTJXLb+/fuz5cuXi3AM/+2DdZuIT43gMo0cOZJ+8prcMMMwqmRY0CURnxp7jQ3WExaOlQyrtq63bfu6SHzwAcYUNXQ2adIk6jqvHce5F0BfNma8FPD6+N27d2dEOLgA5JpAKh1Xh3qDTuJgeouuj4/2UNS+ffu8UJz4Ond1evbsyUciAGEEKS+vNuhp39WBG4aTMl3RcXXQHkZCNDYi5rPg6oAPp0+f5t0aOnSoe/1I/QzS1fElv0j8Xbt2sRdeeIGdPXuW+6oNGjRwhYRgusTHAWzYsCHbvHkz9cutdYkPrEaNGqUlhY6PD+sMmU6cOMHduueff57hLoxYdHx8EL5ly5Zs5cqVIoS7rEP8H374gb388sts2bJlbntx4WknPi7eGzduzI3XkSNH2IsvvsjAObHkhPiiAOmWdYmfDoPW6RKf2qWrdYifrr13nQ7xvW29v3WI723r/f20E9/bn3S/Q+Kb5lP9AIsOakj8WvoAKxaLXcGdHJXPli1bfJ/cFhQUKGNt374945Nb+PMqcuEWYiYfH/eNVbCwTyaLD5dEFSsT8XFbVhXrabX4cANV+5g1ix+JRJYVFRWtUf0YhjFadtGQn5//P1Uc7BePx8fIsOLx+ARNrPE+WGN1sAzDmCjDMgzjP5pYk2RYsVhspA6WZVlSLNl/5Hp9LBb7p04fE4nElFzLHP5/qIFQA6EGQg2EGgg1EGrgGdBAu7y8PJ1PM58+6+BgX4QrZKO00Oxjax+hILNOP/2woMugsJoEiPX3ALEaBYjlc1g0N9WvX//G0KFDb6l8BgwYUOk4zkHZX9SrV08Zq7i4uNKyrKMyrCDXW5Z1ori4WKmP0INhGGdl/29Z1pFBgwZVqujrIdZ5GZbjOCX9+/dXxjJNU4qVSCT29u3bVxnLsqwLMrkSicT23r17K2P53W1KJpNbevbseVtVX47jIObqzy8Qmu45Z6qz+QAryJ7nIhGFdJnpdqY3Vofapav9CFZYWLgf8f+qxY9gqVRq588//6wKhcDFy7LjFSaieNSY6cmtTJE1WR8S36N8xvAMRWpZ/5LERwzLe++9xwPLTp06xZdrmohCAVe9evVi69evZ9OmTWNk4XJJfFgz9BFxO4hL6tGjB6tpIsqMGTPYxo0bGaI8v/nmGzZr1iwGvVHRsfhffPEFxxo0aBCP/Zk7dy4TIxt1LD7kQP5DcXEx+/LLL9mCBQvYTz/9RGJpER/Rujh+H3zwAVu6dClbtGhRteAyHYuPJKD333+f7dixgycBgRtiLFfWHmB5XR0kdyCpAgWhvO3atXOVpePqIC6dyPTKK69wDDytpcjPXBIfcf1t2rThMkGe1157ze0jFjI9uaWwZNR4mo1CfUTyCG3HelXiI7YfT3FRXn31VR6Hj0AuMXJUlfiIqMXJiIK+IUEGBg2ko6Jq8ZEksm7dOt7sjTfe4DkRMBZnzpwhKG1Xp3Xr1m7b119/3V3GQpDEH/a7ezBc9rEs6480pod/v2LFCjZw4EAeBQkLTVlU2AziO46DJI20eIZhVMNCG1i/Pn36PER/VIH4DxMr0mLJ/qMm6y3LqhDj8UFWWHxEfCI2H6GyYjEM44bsfyCzSGy0g7GgBBkRB8umad6UYTmOU0YjILUDFiW10Dqqcax8sC55fXycAKLhIhzUtm3f8sE67/XxYSzefPNNEcJddhxHipVIJM6Ioxb4AKMD3WOExGgrlkQigXyPJ+UEOJ+nRXwMszRUf/TRR9Xi32tCfAy53kQPdDSXxP/444/d0Wjs2LGPhTrrEh+uxMyZM8Xj5y7rEv/rr79m06dPd9uLC7rEh6X2JnoQni7xv/32WzczjzCo1iE++ADjigKXCYZHLEESH+SXFq+rIw77GNqQ+kZFx9WhNu+88w4nOf2mOpeuDiwOuVywYuJoAPlUXR3qy4ABA3ieLf0Wa1VXh9oMGTKEuyX0W6xVXR1qg/RK0a+n9ahVXR1qM3z4cB5oRr/FWsfHRxoquW/w78+fPy9CBerqSEmPDSLxYR2QdQUfDhd+yP2kbBlIp0v8qVOn8gsZ8eKFepkr4i9evJgP//B5kRmGpPMnSUSB1cIF5OrVq6lr1Wod4iMBZfDgwdwFqAby8IcO8ZGnC+JjBElXdIgPl+R3z4Hn/uJ6wVtUib9161buYiLqtrS0lCHbL0xE8T09n2xjeDvTS1V9i/84wqM1qsR/1EK+FOTFrS9rRIsvF+ePLboW3w8vVxbfTybapuvqULt0tY7FT9deXKdj8cV26ZZ1LH669uK6p5L4YcjC4+EaYcjCXyBkIS8vr63mp6nPEKKLxd9/4oMX1CYEqenI1srnjyFzUFjQZVBYjQPEQmBZUHL9LUAsn8MSbgo1EGog1ECogVADoQZCDYQaIA1EIpHlqVRqrerHMIx/U1tvnZ+fv0wVB/vF4/H/ejH+jN/xeHycjlyGYUiTupEgr4k1WdanWCw2SgfLsiwpVjweH6GDZdt2VpK6Y7HYv3TkSiQSU2X6CnR9Ll4vgoc+mV4vEmQncR8/268XQR/xSo1MtzNVXi9CWJluZyIaM9NrPAjL73ZmkLpHPH6tfL1Itu/j42kpXkyLeCC/GVGCVH62H2DhSTD6GNTEEHiinmliCJVEFDwthVx4Mp9N4otBauL9/3TLz+wDLCgBAV3PMvER5oH34wdBfIT/IuY/COKD8Ij5D4nvidXBGYgYlqZNm7qJKM2aNXOTDnSf3CKwCeGnzZs35/Hhn3zyCQ/mQgxPLp/cIuQWfaRElCZNmrjRmtCBzpPbUaNG8b61aNGCrV27lr9+HBYffUTJ5OqIYcnQD+LoX3rpJR77gyjNgwcPuliZXB0xLHnMmDE8EQV5Aoi1AeH37NnjYuXK4iMnAHygRJRWrVrVjkQUTJqAQCkUxJ0js4iKDvHRQUxsgChIevk/5nNCWbhwYU6Jj5h3mpwAcebemHBV4kM/FLdOM6ycPHmSJ36gjyiqxEciCgUEEhZ+IxEE2VMoqsRHHD4MGAph4aTAe/ZJrlwRH9G+4gw0Xbp04XLSV5CujtbEEEh3GzFiBLfUo0ePrhZLD+LrTgyBSDxYRbHggMLi+00MEcDkAG6/vRND4GIL4b8YjeDzIkZcLLoTQ8BYIEJTLERi3YkhgCUaG2ASlt/EELZt3xQtPtrhePXu3VsUy8WybTsrk0x4J4YAHxCqDt3jJERuhFiCnBgi7VQ7NN2KdyogWL9r165xWZA5BeVRwbLqVEDUBhlcCEf1FhDfbyogki+IGpZSjLlHsg18ZhSE7lLiDcmoOhUQ7T979mx3uh5aR7XqVEC0P6x7usQdbPebCiiRSJR6ib9kyRKGMOx0xXGcq0HoNhOGdyog8AEv3UVBhh+lbpKMQU4F5HuDxHtXh1LoMCTRMElCgfi689x27NiR52kSBtW59PGpj5BFHHZJNlVXh/ZHGiPcp3RF1dWhtkjOoEQNWke1qqtD+/ft21eaIJMrVwe6p5h+LIsTv0HuIF0dZeIjKQBDECwHLoSwTJYRQukSH+3xkVn8XNzOxAUtZMLdEtzzxjK5EkQYHeJjRhTqJ7UXax3iwxL6YekQH1NoEpaYRUey5YL4NJ0p7uwhkR7yeZOAckJ8Uoqs1iW+DAfrc2nx/eTCNh3iZ8LSIX4mLB3iZ8LKBfEzyYTtIfF9xym9jdl+gCUe4JD4tXRGlLp161YVFRWVq3wKCwuvRqPRPTLa1alTRxkrlUoBq0SGFeT6SCRyOJVKKfUResjPzy+V/X80Gj0A2VX0hX0ikcgpH6zd0KkG1kkfrG2FhYUVqljPPfecVC7Zf9RkfUFBwXrHcZTlikajmEf5icv/AVjiQOOt0tCHAAAAAElFTkSuQmCC)\n",
        "\n",
        "That's an awful lot of $T$s! Implement this same circuit in PennyLane as a QNode just_enough_ts, but minimize the number of  gates by replacing sequences of them with other gates that have the same effect. Using the gates you learned before, how much can you simplify this circuit?\n",
        "\n",
        "Then, answer the following questions:\n",
        "\n",
        "1) What are the original $T$-count, $T$-depth, and regular depth? \\\\\n",
        "2) What is the optimal $T$-count? \\\\\n",
        "3) What are the optimal depth and $T$-depth of the resulting circuit? \\\\\n",
        "\n",
        "Record your answers in the variables provided in the code block below. Note: You can only use $S$,$T$ , and $H$ gates!\n",
        "\n",
        "Tip. Recall that operations can be  applied to different qubits by specifying the desired index in the wires variable. Also, circuit depth is calculated as the maximum number of gates acting on any one wire."
      ],
      "metadata": {
        "id": "2hq8lxZGM_3c"
      }
    },
    {
      "cell_type": "code",
      "source": [
        "dev = qml.device('default.qubit', wires=3)\n",
        "\n",
        "@qml.qnode(dev)\n",
        "def too_many_ts():\n",
        "    \"\"\"You can implement the original circuit here as well, it may help you with\n",
        "    testing to ensure that the circuits have the same effect.\n",
        "\n",
        "    Returns:\n",
        "        array[float]: The measurement outcome probabilities.\n",
        "    \"\"\"\n",
        "    qml.Hadamard(wires=0)\n",
        "    qml.T(wires=0)\n",
        "    qml.T(wires=0)\n",
        "    qml.Hadamard(wires=0)\n",
        "    qml.adjoint(qml.T)(wires=0)\n",
        "    qml.adjoint(qml.T)(wires=0)\n",
        "    qml.Hadamard(wires=0)\n",
        "\n",
        "    qml.Hadamard(wires=1)\n",
        "    qml.T(wires=1)\n",
        "    qml.Hadamard(wires=1)\n",
        "    qml.T(wires=1)\n",
        "    qml.T(wires=1)\n",
        "    qml.T(wires=1)\n",
        "    qml.T(wires=1)\n",
        "    qml.Hadamard(wires=1)\n",
        "\n",
        "    qml.Hadamard(wires=2)\n",
        "    qml.adjoint(qml.T)(wires=2)\n",
        "    qml.Hadamard(wires=2)\n",
        "    qml.adjoint(qml.T)(wires=2)\n",
        "    qml.adjoint(qml.T)(wires=2)\n",
        "    qml.adjoint(qml.T)(wires=2)\n",
        "    qml.Hadamard(wires=2)\n",
        "\n",
        "    return qml.probs(wires=[0, 1, 2])\n",
        "\n",
        "@qml.qnode(dev)\n",
        "def just_enough_ts():\n",
        "    \"\"\"Implement an equivalent circuit as the above with the minimum number of\n",
        "    T and T^\\dagger gates required.\n",
        "\n",
        "    Returns:\n",
        "        array[float]: The measurement outcome probabilities.\n",
        "    \"\"\"\n",
        "\n",
        "    ##################\n",
        "    # YOUR CODE HERE #\n",
        "    ##################\n",
        "    # IMPLEMENT THE CIRCUIT, BUT COMBINE AND OPTIMIZE THE GATES\n",
        "    # TO MINIMIZE THE NUMBER OF TS\n",
        "    qml.Hadamard(wires=0)\n",
        "    qml.S(wires=0)\n",
        "    qml.Hadamard(wires=0)\n",
        "    qml.adjoint(qml.S)(wires=0)\n",
        "    qml.Hadamard(wires=0)\n",
        "\n",
        "\n",
        "    qml.Hadamard(wires=1)\n",
        "    qml.T(wires=1)\n",
        "    qml.Hadamard(wires=1)\n",
        "    qml.S(wires=1)\n",
        "    qml.S(wires=1)\n",
        "    qml.Hadamard(wires=1)\n",
        "\n",
        "    qml.Hadamard(wires=2)\n",
        "    qml.adjoint(qml.T)(wires=2)\n",
        "    qml.Hadamard(wires=2)\n",
        "    qml.adjoint(qml.S)(wires=2)\n",
        "    qml.adjoint(qml.T)(wires=2)\n",
        "    qml.Hadamard(wires=2)\n",
        "\n",
        "    return qml.probs(wires=[0, 1, 2])\n",
        "\n",
        "##################\n",
        "# YOUR CODE HERE #\n",
        "##################\n",
        "print(too_many_ts())\n",
        "print(just_enough_ts())\n",
        "# FILL IN THE CORRECT VALUES FOR THE ORIGINAL CIRCUIT\n",
        "original_depth = 8\n",
        "original_t_count = 13\n",
        "original_t_depth = 6\n",
        "\n",
        "# FILL IN THE CORRECT VALUES FOR THE NEW, OPTIMIZED CIRCUIT\n",
        "optimal_depth = 6\n",
        "optimal_t_count = 3\n",
        "optimal_t_depth = 2\n"
      ],
      "metadata": {
        "colab": {
          "base_uri": "https://localhost:8080/"
        },
        "id": "0gdoM50wNnH1",
        "outputId": "738240fc-4877-4170-bb44-4e3a7a4541f4"
      },
      "execution_count": null,
      "outputs": [
        {
          "output_type": "stream",
          "name": "stdout",
          "text": [
            "[1.15555797e-33 3.85185989e-34 1.15555797e-33 3.85185989e-34\n",
            " 3.75000000e-01 1.25000000e-01 3.75000000e-01 1.25000000e-01]\n",
            "[0.    0.    0.    0.    0.375 0.125 0.375 0.125]\n"
          ]
        }
      ]
    },
    {
      "cell_type": "markdown",
      "source": [
        "#I.6 From a different angle\n",
        "\n",
        "Codercise I.6.1. Write a `QNode` that applies `qml.RX` with an angle of  to one of the computational basis states. What operation is this?"
      ],
      "metadata": {
        "id": "NZmZGzhHjtjy"
      }
    },
    {
      "cell_type": "code",
      "source": [
        "dev = qml.device('default.qubit',wires=1)\n",
        "\n",
        "@qml.qnode(dev)\n",
        "def apply_rx_pi(state):\n",
        "    \"\"\"Apply an RX gate with an angle of \\pi to a particular basis state.\n",
        "\n",
        "    Args:\n",
        "        state (int): Either 0 or 1. If 1, initialize the qubit to state |1>\n",
        "            before applying other operations.\n",
        "\n",
        "    Returns:\n",
        "        array[complex]: The state of the qubit after the operations.\n",
        "    \"\"\"\n",
        "    if state == 1:\n",
        "        qml.PauliX(wires=0)\n",
        "\n",
        "    ##################\n",
        "    # YOUR CODE HERE #\n",
        "    ##################\n",
        "\n",
        "    # APPLY RX(pi) AND RETURN THE STATE\n",
        "    qml.RX(np.pi,wires=0)\n",
        "\n",
        "    return qml.state()\n",
        "\n",
        "print(apply_rx_pi(0))\n",
        "print(apply_rx_pi(1))\n"
      ],
      "metadata": {
        "colab": {
          "base_uri": "https://localhost:8080/"
        },
        "id": "LVAL-cZ5lH2j",
        "outputId": "a6fb9b1a-c1d8-44f8-dd6a-4f0a80916c78"
      },
      "execution_count": null,
      "outputs": [
        {
          "output_type": "stream",
          "name": "stdout",
          "text": [
            "[6.123234e-17+0.j 0.000000e+00-1.j]\n",
            "[0.000000e+00-1.j 6.123234e-17+0.j]\n"
          ]
        }
      ]
    },
    {
      "cell_type": "markdown",
      "source": [
        "**Codercise I.6.2.** The matrix representation of  is \\\\\n",
        "![image.png](data:image/png;base64,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)\n",
        "\n",
        "How does this affect the amplitudes when we apply it to a quantum state? Implement a QNode that applies the qml.RX operation with parameter $\\theta$ to a specified basis state. Then, run the code to plot the amplitudes  of the  $|0>$ and  $|1>$ and  after applying $RX(\\theta)$ to the |0> state."
      ],
      "metadata": {
        "id": "PgbCv7oqmGWz"
      }
    },
    {
      "cell_type": "code",
      "source": [
        "import matplotlib.pyplot as plt\n",
        "\n",
        "%matplotlib inline\n",
        "\n",
        "dev = qml.device('default.qubit', wires=1)\n",
        "\n",
        "@qml.qnode(dev)\n",
        "def apply_rx(theta, state):\n",
        "    \"\"\"Apply an RX gate with an angle of theta to a particular basis state.\n",
        "\n",
        "    Args:\n",
        "        theta (float): A rotation angle.\n",
        "        state (int): Either 0 or 1. If 1, initialize the qubit to state |1>\n",
        "            before applying other operations.\n",
        "\n",
        "    Returns:\n",
        "        array[complex]: The state of the qubit after the operations.\n",
        "    \"\"\"\n",
        "    if state == 1:\n",
        "        qml.PauliX(wires=0)\n",
        "    ##################\n",
        "    # YOUR CODE HERE #\n",
        "    ##################\n",
        "\n",
        "    # APPLY RX(theta) AND RETURN THE STATE\n",
        "    qml.RX(theta,wires=0)\n",
        "    return qml.state()\n",
        "\n",
        "# Code for plotting\n",
        "angles = np.linspace(0, 4*np.pi, 200)\n",
        "output_states = np.array([apply_rx(t, 0) for t in angles])\n",
        "\n",
        "#print(output_states)\n",
        "\n",
        "plt.plot(angles,output_states)\n",
        "plt.show()\n",
        "\n",
        "#plot = plotter(angles, output_states)\n"
      ],
      "metadata": {
        "colab": {
          "base_uri": "https://localhost:8080/",
          "height": 465
        },
        "id": "QoMjfXKqIdlx",
        "outputId": "dd09eb40-3c2a-4e3b-cdbb-d092480f0760"
      },
      "execution_count": null,
      "outputs": [
        {
          "output_type": "stream",
          "name": "stderr",
          "text": [
            "/usr/local/lib/python3.10/dist-packages/matplotlib/cbook/__init__.py:1335: ComplexWarning: Casting complex values to real discards the imaginary part\n",
            "  return np.asarray(x, float)\n"
          ]
        },
        {
          "output_type": "display_data",
          "data": {
            "text/plain": [
              "<Figure size 640x480 with 1 Axes>"
            ],
            "image/png": "[encoded data removed]"
          },
          "metadata": {}
        }
      ]
    },
    {
      "cell_type": "markdown",
      "source": [
        "**Codercise I.6.3.** Repeat the above exercise, but using `qml.RY`. From the amplitudes you obtain for , can you start deducing the matrix form of? \\\\\n",
        "\n",
        "![image.png](data:image/png;base64,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)"
      ],
      "metadata": {
        "id": "YT-shsG7Uh-T"
      }
    },
    {
      "cell_type": "code",
      "source": [
        "dev = qml.device('default.qubit', wires=1)\n",
        "\n",
        "@qml.qnode(dev)\n",
        "def apply_ry(theta, state):\n",
        "    \"\"\"Apply an RY gate with an angle of theta to a particular basis state.\n",
        "\n",
        "    Args:\n",
        "        theta (float): A rotation angle.\n",
        "        state (int): Either 0 or 1. If 1, initialize the qubit to state |1>\n",
        "            before applying other operations.\n",
        "\n",
        "    Returns:\n",
        "        array[complex]: The state of the qubit after the operations.\n",
        "    \"\"\"\n",
        "    if state == 1:\n",
        "        qml.PauliX(wires=0)\n",
        "\n",
        "    ##################\n",
        "    # YOUR CODE HERE #\n",
        "    ##################\n",
        "\n",
        "\n",
        "    # APPLY RY(theta) AND RETURN THE STATE\n",
        "    qml.RY(theta,wires=0)\n",
        "    return qml.state()\n",
        "\n",
        "\n",
        "# Code for plotting\n",
        "angles = np.linspace(0, 4*np.pi, 200)\n",
        "output_states = np.array([apply_ry(t, 0) for t in angles])\n",
        "\n",
        "plt.plot(angles,output_states)\n",
        "plt.show()\n"
      ],
      "metadata": {
        "colab": {
          "base_uri": "https://localhost:8080/",
          "height": 430
        },
        "id": "h8qUopNPUx24",
        "outputId": "934f317d-496d-46f5-e16e-b76890233276"
      },
      "execution_count": null,
      "outputs": [
        {
          "output_type": "display_data",
          "data": {
            "text/plain": [
              "<Figure size 640x480 with 1 Axes>"
            ],
            "image/png": "[encoded data removed]"
          },
          "metadata": {}
        }
      ]
    },
    {
      "cell_type": "markdown",
      "source": [
        "Link para Esfera de Bloch:   https://www.st-andrews.ac.uk/physics/quvis/simulations_html5/sims/blochsphere/blochsphere.html"
      ],
      "metadata": {
        "id": "qSOh1XA6VNuK"
      }
    },
    {
      "cell_type": "markdown",
      "source": [
        "# I.7 Universal gate sets\n",
        "\n",
        "![image.png](data:image/png;base64,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)"
      ],
      "metadata": {
        "id": "WdKcsdV-s8ik"
      }
    },
    {
      "cell_type": "markdown",
      "source": [
        "**Codercise I.7.1** Can you find a set of angles phi, theta, omega such that the sequence of gates\n",
        "\n",
        "    \n",
        "\n",
        "```\n",
        "qml.RZ(phi, wires=0)\n",
        "qml.RX(theta, wires=0)\n",
        "qml.RZ(omega, wires=0)\n",
        "```\n",
        "\n",
        "\n",
        "acts the same as a Hadamard gate (up to a global phase)?\n",
        "\n"
      ],
      "metadata": {
        "id": "nTNRLB8_rvyA"
      }
    },
    {
      "cell_type": "code",
      "source": [
        "dev = qml.device(\"default.qubit\", wires=1)\n",
        "\n",
        "##################\n",
        "# YOUR CODE HERE #\n",
        "##################\n",
        "\n",
        "# ADJUST THE VALUES OF PHI, THETA, AND OMEGA\n",
        "phi, theta, omega = np.pi/2, np.pi/2, np.pi/2\n",
        "\n",
        "@qml.qnode(dev)\n",
        "def hadamard_with_rz_rx():\n",
        "    qml.RZ(phi, wires=0)\n",
        "    qml.RX(theta, wires=0)\n",
        "    qml.RZ(omega, wires=0)\n",
        "    return qml.state()\n",
        "\n",
        "alpha = complex(hadamard_with_rz_rx()[0])\n",
        "beta = complex(hadamard_with_rz_rx()[1])\n",
        "\n",
        "print(alpha,beta)\n",
        "\n",
        "print(alpha*alpha.conjugate())\n",
        "print(beta*beta.conjugate())\n",
        "print(alpha*alpha.conjugate() + beta*beta.conjugate())\n",
        "#Obs: A menos de uma fase: |alpha|^2 + |beta|^2 = 1"
      ],
      "metadata": {
        "id": "b8r9qUAFVNBw",
        "colab": {
          "base_uri": "https://localhost:8080/"
        },
        "outputId": "9f91b6f4-d79a-4682-903c-7fe7f9aa4435"
      },
      "execution_count": null,
      "outputs": [
        {
          "output_type": "stream",
          "name": "stdout",
          "text": [
            "(1.1102230246251565e-16-0.7071067811865476j) -0.7071067811865475j\n",
            "(0.5000000000000001+0j)\n",
            "(0.4999999999999999+0j)\n",
            "(1+0j)\n"
          ]
        }
      ]
    },
    {
      "cell_type": "markdown",
      "source": [
        "**Codercise I.7.2.** Using the results of the previous exercise, rewrite the following circuit over the gate `set [RZ, RX]` (recall that it is okay for your circuit to work up to a global phase). What is the minimum number of such gates needed to do so? \\\\\n",
        "\n",
        "![image.png](data:image/png;base64,iVBORw0KGgoAAAANSUhEUgAAAFUAAAAMCAYAAAATdPFlAAADrklEQVRYCe2XX0iTURTADwRRQQWbD2FIL4GWlqLBSi2mwWY+6IjGYAMlNkK0PWjgBuZDgj3bW86HJIURwibzwQdni/APM5GNTQWXo2k9+AcUFyIHxDhf+z7uvn1r1woh6MLlnnt3zrnn/nbOvXwAv98q6uvrv3R0dMR4ellZWRwAzrLbFRQUhHlsSae9vT1WWFj4irVXqVSPzGZzgteHyWQKsPYkq9XqoN1uj/J2jUbzRu7jb84rfD5f8ujoCHl6V1dXBlSj0ejnsSWdw8NDLC8vf80eID8/37SwsJBz/5GREUGnpaUlwtqTXFtb+443BtKrq6vzyH0ozS/KFs8BwBnZmtL0n4Aai8XQ5XJhMBjEk4R6n6oAAB4AgAYATgPAQyWKsrUMqH6/H5eWloSsCAQCGIlEpCw6iUyNRqO4t7eH4XAYZ2ZmhOyen5/H/v5+rkzd3NzEvr4+nJiYEPR3d3ext7cX19fXpXPwZipBdaaAPQWACwBglAFUmmZAdTgcmEgkhAC6u7txZWVFCoYX6tDQEAIA9vT04NrammTPU/6Li4uCfmdnJ4ZCIUGemprCwcFBQebJVLfbjcPDw4I+/UkEmr0ejgP1ZYqaFQCuAsB1ALiWWrsCAFqF/sTn831nN2xoaEDKUOoks785HI5vAKBn/TQ2Nn5idba3t6Wsortyf39f8kFQi4uLfay9SqV6oXSn6nQ6yY78z87OCnOr1brK2pNcVVX1no3h4OAA9Xo9EtCNjY00P6Sn1Wo/yn3I5veIG2XqsxRAe+qFJpB0JVC7DAB3FPpjFiqVXWtrqxDEzs4O2my2tICcTufX1OaSL4PBMMceiGTKVMpS+TpBLSkp8bJxqNXq53KoyWQSLRZLhj35s9lsn1l7kqurqzMeS4PBgPF4XNFHTU3NB7kP2fw2QSOo5wHgFgDc/MkR7qbGXw1p5e/1etHj8QiBjI2NCXBYMDzlL14dBJbKlrXnKX/SHx8fFx4m1laUecqfdJuamtL2Fu1pPE75s/DooaIHK1eToNK9Q/fW5OQkbm1t4cDAgHTZiwHlgkqlT2VL92lpaSkuLy+nHYwHKj2S9IeMjo4iVYu4tzjyQJ2enhYqjuIR7diRFyo9TGwjqDxNgspumk3OBTWbnbjOA1XUzTbyQM1mK67zQuUBqKTzH6oSlT9cu9TW1hbi/bxrbm6mV/MUu6dOp3Pz2pOe2Wy2sPZFRUU3jmPvcrnSvsjIV15e3hzvZy7pVVZWvmVjUJJ/AIYFv9hHXrWXAAAAAElFTkSuQmCC)"
      ],
      "metadata": {
        "id": "jbx2J4NI0Fvz"
      }
    },
    {
      "cell_type": "code",
      "source": [
        "dev = qml.device(\"default.qubit\", wires=1)\n",
        "\n",
        "@qml.qnode(dev)\n",
        "def convert_to_rz_rx():\n",
        "    ##################\n",
        "    # YOUR CODE HERE #\n",
        "    ##################\n",
        "    qml.RZ(phi, wires=0)\n",
        "    qml.RX(theta, wires=0)\n",
        "    qml.RZ(omega, wires=0)\n",
        "    qml.RZ(np.pi/2, wires=0)\n",
        "    qml.RZ(np.pi/4, wires=0)\n",
        "\n",
        "\n",
        "\n",
        "    # IMPLEMENT THE CIRCUIT IN THE PICTURE USING ONLY RZ AND RX\n",
        "\n",
        "\n",
        "    return qml.state()"
      ],
      "metadata": {
        "id": "uLqAIdl50WcK"
      },
      "execution_count": null,
      "outputs": []
    },
    {
      "cell_type": "code",
      "source": [],
      "metadata": {
        "id": "CQhUHch8O1Ve"
      },
      "execution_count": null,
      "outputs": []
    },
    {
      "cell_type": "markdown",
      "source": [
        "# I.8 Prepare yourself"
      ],
      "metadata": {
        "id": "g2qiHnfJO11e"
      }
    },
    {
      "cell_type": "markdown",
      "source": [
        "**Codercise I.8.1.** Write a circuit that prepares the quantum state\n",
        "\n",
        "up to a global phase using as few gates as possible.\n",
        "\n",
        "$|\\psi>=\\frac{1}{\\sqrt{2}}|0> + \\frac{1}{\\sqrt{2}} e^{i\\frac{5\\pi}{4}}|1>$\n"
      ],
      "metadata": {
        "id": "xXKD4SfYO4Fm"
      }
    },
    {
      "cell_type": "code",
      "source": [
        "dev = qml.device(\"default.qubit\", wires=1)\n",
        "\n",
        "@qml.qnode(dev)\n",
        "def prepare_state():\n",
        "    ##################\n",
        "    # YOUR CODE HERE #\n",
        "    ##################\n",
        "\n",
        "    # APPLY OPERATIONS TO PREPARE THE TARGET STATE\n",
        "    qml.Hadamard(wires=0)\n",
        "    qml.T(wires=0)\n",
        "    qml.T(wires=0)\n",
        "    qml.T(wires=0)\n",
        "    qml.T(wires=0)\n",
        "    qml.T(wires=0)\n",
        "\n",
        "    return qml.state()\n",
        "\n",
        "\n",
        "print(prepare_state())"
      ],
      "metadata": {
        "colab": {
          "base_uri": "https://localhost:8080/"
        },
        "id": "RFHM5ZAsPjZe",
        "outputId": "45f88518-4620-4801-bae8-34ed34882125"
      },
      "execution_count": null,
      "outputs": [
        {
          "output_type": "stream",
          "name": "stdout",
          "text": [
            "[ 0.70710678+0.j  -0.5       -0.5j]\n"
          ]
        }
      ]
    },
    {
      "cell_type": "markdown",
      "source": [
        "**Codercise I.8.2.** Let's try another. Write a circuit that prepares the quantum state \\\\\n",
        "\n",
        "$|\\psi>=\\frac{\\sqrt{3}}{2}|0> - \\frac{i}{2}|1>$ \\\\\n",
        "\n",
        "up to a global phase using as few gates as possible."
      ],
      "metadata": {
        "id": "rBiHEkjiQdGf"
      }
    },
    {
      "cell_type": "code",
      "source": [
        "dev = qml.device(\"default.qubit\", wires=1)\n",
        "\n",
        "@qml.qnode(dev)\n",
        "def prepare_state():\n",
        "    ##################\n",
        "    # YOUR CODE HERE #\n",
        "    ##################\n",
        "\n",
        "    # APPLY OPERATIONS TO PREPARE THE TARGET STATE\n",
        "    qml.RX(np.pi/3,wires=0)\n",
        "\n",
        "\n",
        "    return qml.state()\n",
        "\n",
        "print(prepare_state())"
      ],
      "metadata": {
        "colab": {
          "base_uri": "https://localhost:8080/"
        },
        "id": "3D_r4NPjQcg1",
        "outputId": "224713fc-e409-40ce-a0eb-c00d1bea4e77"
      },
      "execution_count": null,
      "outputs": [
        {
          "output_type": "stream",
          "name": "stdout",
          "text": [
            "[0.8660254+0.j  0.       -0.5j]\n"
          ]
        }
      ]
    },
    {
      "cell_type": "markdown",
      "source": [
        "**Codercise I.8.3.** Write a QNode that uses qml.StatePrep to prepare the state\n",
        "\n",
        "Return the state of system. In addition, we'll print the circuit using qml.draw to investigate which operations were actually used under the hood.\n",
        "\n"
      ],
      "metadata": {
        "id": "2EQaEW4wRNF5"
      }
    },
    {
      "cell_type": "code",
      "source": [
        "v = np.array([0.52889389-0.14956775j, 0.67262317+0.49545818j])\n",
        "\n",
        "##################\n",
        "# YOUR CODE HERE #\n",
        "##################\n",
        "\n",
        "# CREATE A DEVICE\n",
        "dev = qml.device(\"default.qubit\", wires=1)\n",
        "\n",
        "# CONSTRUCT A QNODE THAT USES qml.StatePrep\n",
        "# TO PREPARE A QUBIT IN STATE V, AND RETURN THE STATE\n",
        "\n",
        "@qml.qnode(dev)\n",
        "def prepare_state(state=v):\n",
        "    qml.StatePrep(v,wires=0)\n",
        "    return qml.state()\n",
        "\n",
        "# This will draw the quantum circuit and allow you to inspect the output gates\n",
        "print(prepare_state(v))\n",
        "print()\n",
        "print(qml.draw(prepare_state, expansion_strategy='device')(v))"
      ],
      "metadata": {
        "colab": {
          "base_uri": "https://localhost:8080/"
        },
        "id": "V8PwgkShT6NX",
        "outputId": "afe5cde4-e50c-4b9f-bec0-a3a1268fddc2"
      },
      "execution_count": null,
      "outputs": [
        {
          "output_type": "stream",
          "name": "stdout",
          "text": [
            "[0.52889389-0.14956775j 0.67262317+0.49545818j]\n",
            "\n",
            "0: ──|Ψ⟩─┤  State\n"
          ]
        }
      ]
    },
    {
      "cell_type": "markdown",
      "source": [
        "# I.10 What did you expect?"
      ],
      "metadata": {
        "id": "tpRBs80Jk7gK"
      }
    },
    {
      "cell_type": "markdown",
      "source": [
        "Codercise I.10.1. Design and run a PennyLane circuit that performs the following, where $<Y>$ indicates measurement of the PauliY observable. \\\\\n",
        "\n",
        "![image.png](data:image/png;base64,iVBORw0KGgoAAAANSUhEUgAAAHEAAAAMCAYAAABVwlLPAAAFHElEQVRYCd2Ye0h8RRTHT0/MMCjJoD9c6a8NMSmLIjIE/zBcFEVCVBJcQ1BCNBYkUcnw8UeETxTF8C2JioriG3wm+H6S/EwUUxRUfCs6vuI77Fxm93fdXR8ZdeFyZ86cM3NmPnPOzC7RAx5nZ+dZvV7/+1O8ERERwxqN5mfhrouLyw8RERGzMTExk7a8vr6+LcKWiF7WarXPbLGDTmBg4IK9vb2fZK9adHJyGjEYDH8+5A0JCelT7fyfEkZFRc3c3Nywp3gvLy+Zh4dHoZiLu7v7T9vb2zaPrdfrJ4QtIBoMhiVb/R4dHWWOjo4Bkr1q0dvb+zdb+7xNLyYmZl61cytCZ7N2ByJ6w0ymWr0rxN3dXYuLvrOzY9K+v7+v1P9vEOPi4lhXV5cyPwH1vhC9iegtInqFiD4y0oLM6iNDPDw8ZElJSay/v58VFhays7MzEwcZY6ysrMxEJhzHd2pqim1sbPD24eFhtrS0xNbW1tjs7CyXWYN4enrKiouLWWdnJx+7pKSEtbS0KONZi8TS0lKWnJzM/a+rq2Ourq5MRPpjR2J7ezuzs7Pj85PXAOVbIH5JRDoi+s4I5WMiCiKiD4noNcgALN7Y+C0RvUNEX1glSEQyRCxyQkICX7S0tDS2urqqLCCca2xsZEdHR1w2MTHBFwvAr66uuAwTg97JyQlLT0/nUFEX4K1BhG5wcDC7vr7m/YSFhbGLiwteRps1iL29vVwX2cLHx4ctLy8rto8FEb5hs6ekpPAxtra2lDHgI14ViAisV408fiWi14noPYkPAHOIGUZhOBFpiehNIvrAKHvbGKHozOSNjIx8JgZH9GRmZvJomJmZec65iooKLltZWWFFRUUsLy+Pg4Q9JtfT08PbR0ZGeDRNTk7yOnShA4hubm51wgetVlssIgXteLy8vBhg4A0JCeF2wr/w8PA/hC0RfRIfH/+XaBPf4+NjvriLi4smtoDo4ODwvWRvsg5C7unp2SH6kr9zc3OspqaGzzkrK4tFR0ez1tZWdn5+bjIObFQgfioBSyEiDk2S8XZEIsL0RSLSG6l/boxI6DoJJ82/MkSkor29PTY4OMjq6+sZFqSyspI1NzdzR8vLyxWH29raWENDg1JHRCL9YlJoy8jIYNXV1bwdaQ6Tswaxr6+Pbw7oYkNlZ2cr/UNmDSLSsU6nU9K3yBqwfQhEbM7u7m6GzYs5rK+v8+MGchvPxM8kYD8S0UtSHUUFIi4zbkRkZ1T42kxRtSrSKZzDGQQQQ0NDrKqqii9GbW0twy7EQuB8Ejuvo6OD6x0cHPA2kcqgh3dgYECxwzkHGcawdDtNTEzkCwXd1NRUBYbo01I6hV9BQUFsfHycjzU9Pf0o6RTzwFyFD/jizF5YWOAybLaxsTGTdpVIFOn0XSL6xhhUMg9+9HnJEiIC0DtfbGRHUZ6fn+fn2ubmJncS51NTU5OJw9DDDRSLZm4v+kB6RdkSRFyCCgoKOHicZTk5Oc/1aQliQEAAwzmOjIDoiI2NNfHnPmciNi8iUJ4XUj4ufbIMG15AhVwFIvDcdkfBxUacl2YYbayKSJSdslRWO8jly4e5rfyTwxJEczu1uiWIavqy7D4QkYWwueR+EOnIVLIMaTs/P1+R3QLRRiL3ULsrRNn5u5b/axDVNizuDOI2Ls8f9wfcyiF7cog6na7uKf5yE2P4+fnhtxF//P39v7L1bzPo5ebm/iJsieiF0NDQ7rvYazSa9yV71eK/9bfb3/YnImAQT10YAAAAAElFTkSuQmCC)\n",
        "\n"
      ],
      "metadata": {
        "id": "EiMmmLRllA48"
      }
    },
    {
      "cell_type": "code",
      "source": [
        "dev = qml.device('default.qubit', wires=1)\n",
        "\n",
        "@qml.qnode(dev)\n",
        "def circuit():\n",
        "    ##################\n",
        "    # YOUR CODE HERE #\n",
        "    ##################\n",
        "\n",
        "    # IMPLEMENT THE CIRCUIT IN THE PICTURE AND MEASURE PAULI Y\n",
        "    qml.RX(np.pi/4,wires=0)\n",
        "    qml.Hadamard(wires=0)\n",
        "    qml.PauliZ(wires=0)\n",
        "    return qml.expval(qml.PauliY(wires=0))\n",
        "\n",
        "print(circuit())"
      ],
      "metadata": {
        "colab": {
          "base_uri": "https://localhost:8080/"
        },
        "id": "_9ft1Nk3k407",
        "outputId": "b5665a7f-2e74-43be-b8d0-195764c5baf4"
      },
      "execution_count": null,
      "outputs": [
        {
          "output_type": "stream",
          "name": "stdout",
          "text": [
            "-0.7071067811865471\n"
          ]
        }
      ]
    },
    {
      "cell_type": "code",
      "source": [
        "import numpy as np\n",
        "from scipy.stats import kruskal\n",
        "\n",
        "# Dados de exemplo\n",
        "grupo1 = [4.0, 5.0, 2.0, 1.0, 2.0, 5.0, 4.0, 3.0, 1.0, 5.0, 4.0, 5.0, 5.0, 4.0, 1.0, 5.0, 1.0, 5.0, 5.0, 3.0, 3.0, 5.0, 3.0, 3.0, 5.0, 5.0, 1.0, 1.0, 3.0, 4.0, 4.0, 5.0, 3.0, 4.0, 5.0, 5.0, 5.0, 5.0, 5.0, 3.0, 3.0, 3.0, 3.0, 5.0, 5.0, 5.0, 5.0, 1.0, 2.0, 5.0, 3.0, 3.0, 2.0, 5.0, 3.0, 5.0, 5.0, 3.0, 3.0, 5.0, 3.0, 4.0, 5.0, 4.0, 1.0, 5.0, 5.0, 4.0, 5.0, 3.0, 3.0, 4.0, 5.0, 1.0, 3.0, 5.0, 1.0, 4.0, 5.0, 3.0, 4.0, 3.0, 5.0, 3.0, 5.0, 5.0, 3.0, 5.0, 4.0, 5.0, 5.0, 5.0, 1.0, 5.0, 2.0, 5.0, 2.0, 5.0, 1.0, 3.0, 3.0, 5.0, 5.0, 4.0, 4.0, 3.0, 1.0, 1.0, 2.0, 2.0, 5.0, 3.0, 3.0, 5.0, 5.0, 5.0, 3.0, 4.0, 4.0, 2.0, 5.0, 4.0, 5.0, 4.0, 5.0, 5.0, 4.0, 4.0, 3.0, 3.0, 5.0, 5.0, 5.0, 5.0, 3.0, 5.0, 4.0, 1.0, 1.0, 5.0, 1.0, 5.0, 1.0, 4.0, 1.0, 4.0, 2.0, 1.0, 1.0, 1.0, 1.0, 1.0, 4.0, 5.0, 3.0, 3.0, 4.0, 5.0, 5.0, 5.0, 4.0, 2.0, 5.0, 4.0, 4.0, 4.0, 5.0, 4.0, 4.0, 4.0, 4.0, 1.0, 1.0, 2.0, 2.0, 2.0, 3.0, 3.0, 5.0, 5.0, 5.0, 1.0, 5.0, 2.0, 5.0, 5.0, 5.0, 5.0, 2.0, 3.0, 2.0, 1.0, 2.0, 2.0, 3.0, 2.0, 3.0, 3.0, 5.0, 3.0, 4.0, 3.0, 4.0, 2.0, 3.0, 4.0, 5.0, 1.0, 5.0, 3.0, 5.0, 5.0, 5.0, 2.0, 2.0, 3.0, 2.0, 4.0, 2.0, 4.0, 3.0, 3.0]\n",
        "grupo2 = [1, 2, 3, 4, 5]\n",
        "grupo3 = [3, 3, 3, 3, 3]\n",
        "\n",
        "# Calcular as medianas\n",
        "mediana1 = np.median(grupo1)\n",
        "mediana2 = np.median(grupo2)\n",
        "mediana3 = np.median(grupo3)\n",
        "\n",
        "print(f\"Mediana do Grupo 1: {mediana1}\")\n",
        "print(f\"Mediana do Grupo 2: {mediana2}\")\n",
        "print(f\"Mediana do Grupo 3: {mediana3}\")\n",
        "\n",
        "# Executar o teste de Kruskal-Wallis\n",
        "stat, p_value = kruskal(grupo1, grupo2, grupo3)\n",
        "print(f\"Estatística H: {stat}\")\n",
        "print(f\"Valor-p: {p_value}\")\n",
        "\n",
        "# Verificar se o resultado é significativo\n",
        "if p_value < 0.05:\n",
        "    print(\"O teste é significativo (p < 0,05)\")\n",
        "else:\n",
        "    print(\"O teste não é significativo (p >= 0,05)\")\n",
        "\n"
      ],
      "metadata": {
        "colab": {
          "base_uri": "https://localhost:8080/"
        },
        "id": "qnxpD-rRBOFv",
        "outputId": "6f3e84a3-b703-4100-8398-27511bfa8f55"
      },
      "execution_count": null,
      "outputs": [
        {
          "output_type": "stream",
          "name": "stdout",
          "text": [
            "Mediana do Grupo 1: 4.0\n",
            "Mediana do Grupo 2: 3.0\n",
            "Mediana do Grupo 3: 3.0\n",
            "Estatística H: 2.02620206098701\n",
            "Valor-p: 0.36309127483664794\n",
            "O teste não é significativo (p >= 0,05)\n"
          ]
        }
      ]
    },
    {
      "cell_type": "code",
      "source": [
        "\n",
        "\n",
        "def oracle_matrix(combo):\n",
        "    \"\"\"Return the oracle matrix for a secret combination.\n",
        "\n",
        "    Args:\n",
        "        combo (list[int]): A list of bits representing a secret combination.\n",
        "\n",
        "    Returns:\n",
        "        array[float]: The matrix representation of the oracle.\n",
        "    \"\"\"\n",
        "    index = np.ravel_multi_index(combo, [2]*len(combo)) # Index of solution\n",
        "\n",
        "    my_array = np.identity(2**len(combo)) # Create the identity matrix\n",
        "\n",
        "    ##################\n",
        "    # YOUR CODE HERE #\n",
        "    ##################\n",
        "\n",
        "    for i in range(len(my_array)):\n",
        "      for j in range(len(my_array)):\n",
        "        if i == index and j == index:\n",
        "          my_array[i][j] = -1\n",
        "\n",
        "\n",
        "\n",
        "\n",
        "    # MODIFY DIAGONAL ENTRY CORRESPONDING TO SOLUTION INDEX\n",
        "\n",
        "    return my_array\n",
        "\n",
        "\n",
        "print(oracle_matrix([0,0,0]))"
      ],
      "metadata": {
        "colab": {
          "base_uri": "https://localhost:8080/"
        },
        "id": "Zc5NbybUgUaG",
        "outputId": "60e9f73f-69ee-4318-c467-af1b615166ec"
      },
      "execution_count": null,
      "outputs": [
        {
          "output_type": "stream",
          "name": "stdout",
          "text": [
            "[[-1.  0.  0.  0.  0.  0.  0.  0.]\n",
            " [ 0.  1.  0.  0.  0.  0.  0.  0.]\n",
            " [ 0.  0.  1.  0.  0.  0.  0.  0.]\n",
            " [ 0.  0.  0.  1.  0.  0.  0.  0.]\n",
            " [ 0.  0.  0.  0.  1.  0.  0.  0.]\n",
            " [ 0.  0.  0.  0.  0.  1.  0.  0.]\n",
            " [ 0.  0.  0.  0.  0.  0.  1.  0.]\n",
            " [ 0.  0.  0.  0.  0.  0.  0.  1.]]\n"
          ]
        }
      ]
    },
    {
      "cell_type": "code",
      "source": [
        "n_bits = 4\n",
        "dev = qml.device(\"default.qubit\", wires=n_bits)\n",
        "\n",
        "@qml.qnode(dev)\n",
        "def oracle_circuit(combo):\n",
        "    \"\"\"Create a uniform superposition, apply the oracle, and return probabilities.\n",
        "\n",
        "    Args:\n",
        "        combo (list[int]): A list of bits representing a secret combination.\n",
        "\n",
        "    Returns:\n",
        "        list[float]: The output probabilities.\n",
        "    \"\"\"\n",
        "\n",
        "    ##################\n",
        "    # YOUR CODE HERE #\n",
        "    ##################\n",
        "    for i in range(n_bits):\n",
        "        qml.Hadamard(wires=i)\n",
        "\n",
        "    qml.QubitUnitary(oracle_matrix(combo), wires=range(n_bits))\n",
        "\n",
        "    return qml.probs(wires=range(n_bits))\n",
        "\n",
        "combo = [0,1,1,0]\n",
        "print(oracle_circuit(combo))\n",
        "\n",
        "x = [str(bin(x))[2:] for x in range(2**n_bits)]\n",
        "\n",
        "plt.bar(x,oracle_circuit(combo))\n",
        "plt.show()"
      ],
      "metadata": {
        "colab": {
          "base_uri": "https://localhost:8080/",
          "height": 465
        },
        "id": "7QjF__Y3mHBW",
        "outputId": "48f83176-c338-4aec-be72-36b46cfdd09d"
      },
      "execution_count": null,
      "outputs": [
        {
          "output_type": "stream",
          "name": "stdout",
          "text": [
            "[0.0625 0.0625 0.0625 0.0625 0.0625 0.0625 0.0625 0.0625 0.0625 0.0625\n",
            " 0.0625 0.0625 0.0625 0.0625 0.0625 0.0625]\n"
          ]
        },
        {
          "output_type": "display_data",
          "data": {
            "text/plain": [
              "<Figure size 640x480 with 1 Axes>"
            ],
            "image/png": "[encoded data removed]"
          },
          "metadata": {}
        }
      ]
    },
    {
      "cell_type": "code",
      "source": [
        "A = np.array([[1,0]])\n",
        "B = np.array([[1,0]])\n",
        "\n",
        "np.tensordot(A, B, axes=0)"
      ],
      "metadata": {
        "colab": {
          "base_uri": "https://localhost:8080/"
        },
        "id": "faVtrnNl1Mmx",
        "outputId": "c0554c60-4990-4f6d-8672-7467b712d22a"
      },
      "execution_count": null,
      "outputs": [
        {
          "output_type": "execute_result",
          "data": {
            "text/plain": [
              "tensor([[[[1, 0]],\n",
              "\n",
              "         [[0, 0]]]], requires_grad=True)"
            ]
          },
          "metadata": {},
          "execution_count": 18
        }
      ]
    },
    {
      "cell_type": "code",
      "source": [
        "n_bits = 4\n",
        "dev = qml.device(\"default.qubit\", wires=n_bits)\n",
        "\n",
        "def oracle_matrix(s):\n",
        "\n",
        "  i = np.identity(2**len(s))\n",
        "  inv = -i + 2*np.ones((2**len(s),2**len(s)))*1/(2**len(s))\n",
        "\n",
        "  print(inv)\n",
        "\n",
        "\n",
        "\n",
        "@qml.qnode(dev)\n",
        "def oracle_circuit(ent):\n",
        "\n",
        "\n",
        "    ##################\n",
        "    # YOUR CODE HERE #\n",
        "    ##################\n",
        "    for i in range(n_bits):\n",
        "        qml.Hadamard(wires=i)\n",
        "\n",
        "    qml.QubitUnitary(oracle_matrix(ent), wires=range(n_bits))\n",
        "\n",
        "    return qml.probs(wires=range(n_bits))\n",
        "\n",
        "\n",
        "ent = [0,1,1]\n",
        "print(oracle_circuit(ent))\n",
        "\n",
        "x = [str(bin(x))[2:] for x in range(2**n_bits)]\n",
        "\n",
        "plt.bar(x,oracle_circuit(ent))\n",
        "plt.show()"
      ],
      "metadata": {
        "colab": {
          "base_uri": "https://localhost:8080/",
          "height": 211
        },
        "id": "XQTgnCFOfiWZ",
        "outputId": "75f460d6-a460-44c3-b8bd-687e598c303c"
      },
      "execution_count": null,
      "outputs": [
        {
          "output_type": "error",
          "ename": "NameError",
          "evalue": "name 'qml' is not defined",
          "traceback": [
            "\u001b[0;31m---------------------------------------------------------------------------\u001b[0m",
            "\u001b[0;31mNameError\u001b[0m                                 Traceback (most recent call last)",
            "\u001b[0;32m<ipython-input-1-22306b38b7b3>\u001b[0m in \u001b[0;36m<cell line: 2>\u001b[0;34m()\u001b[0m\n\u001b[1;32m      1\u001b[0m \u001b[0mn_bits\u001b[0m \u001b[0;34m=\u001b[0m \u001b[0;36m4\u001b[0m\u001b[0;34m\u001b[0m\u001b[0;34m\u001b[0m\u001b[0m\n\u001b[0;32m----> 2\u001b[0;31m \u001b[0mdev\u001b[0m \u001b[0;34m=\u001b[0m \u001b[0mqml\u001b[0m\u001b[0;34m.\u001b[0m\u001b[0mdevice\u001b[0m\u001b[0;34m(\u001b[0m\u001b[0;34m\"default.qubit\"\u001b[0m\u001b[0;34m,\u001b[0m \u001b[0mwires\u001b[0m\u001b[0;34m=\u001b[0m\u001b[0mn_bits\u001b[0m\u001b[0;34m)\u001b[0m\u001b[0;34m\u001b[0m\u001b[0;34m\u001b[0m\u001b[0m\n\u001b[0m\u001b[1;32m      3\u001b[0m \u001b[0;34m\u001b[0m\u001b[0m\n\u001b[1;32m      4\u001b[0m \u001b[0;32mdef\u001b[0m \u001b[0moracle_matrix\u001b[0m\u001b[0;34m(\u001b[0m\u001b[0ms\u001b[0m\u001b[0;34m)\u001b[0m\u001b[0;34m:\u001b[0m\u001b[0;34m\u001b[0m\u001b[0;34m\u001b[0m\u001b[0m\n\u001b[1;32m      5\u001b[0m \u001b[0;34m\u001b[0m\u001b[0m\n",
            "\u001b[0;31mNameError\u001b[0m: name 'qml' is not defined"
          ]
        }
      ]
    },
    {
      "cell_type": "code",
      "source": [
        "\n"
      ],
      "metadata": {
        "id": "TfizJU786pQT"
      },
      "execution_count": null,
      "outputs": []
    },
    {
      "cell_type": "code",
      "source": [
        "n_qubits = 2\n",
        "dev = qml.device(\"default.qubit\", wires=n_qubits,shots=100)\n",
        "\n",
        "@qml.qnode(dev)\n",
        "def circuit(n_qubits):\n",
        "\n",
        "    for i in range(n_qubits):\n",
        "        qml.Hadamard(wires=i)\n",
        "\n",
        "    return qml.probs(wires=range(n_qubits))\n",
        "\n",
        "\n",
        "circuit(n_qubits)\n",
        "\n",
        "x = [str(bin(x))[2:] for x in range(2**n_qubits)]\n",
        "\n",
        "plt.bar(x,circuit(n_qubits))\n",
        "plt.title(\"Distribuição de medidas\")\n",
        "plt.show()\n",
        "\n",
        "print(x)\n",
        "print(circuit(n_qubits))\n",
        "print(max(circuit(n_qubits)))"
      ],
      "metadata": {
        "colab": {
          "base_uri": "https://localhost:8080/",
          "height": 211
        },
        "id": "zgmS7B3BoOMA",
        "outputId": "a32628d3-885a-43b5-f2de-aa251210832e"
      },
      "execution_count": null,
      "outputs": [
        {
          "output_type": "error",
          "ename": "NameError",
          "evalue": "name 'qml' is not defined",
          "traceback": [
            "\u001b[0;31m---------------------------------------------------------------------------\u001b[0m",
            "\u001b[0;31mNameError\u001b[0m                                 Traceback (most recent call last)",
            "\u001b[0;32m<ipython-input-2-e60d46a8c6ab>\u001b[0m in \u001b[0;36m<cell line: 2>\u001b[0;34m()\u001b[0m\n\u001b[1;32m      1\u001b[0m \u001b[0mn_qubits\u001b[0m \u001b[0;34m=\u001b[0m \u001b[0;36m2\u001b[0m\u001b[0;34m\u001b[0m\u001b[0;34m\u001b[0m\u001b[0m\n\u001b[0;32m----> 2\u001b[0;31m \u001b[0mdev\u001b[0m \u001b[0;34m=\u001b[0m \u001b[0mqml\u001b[0m\u001b[0;34m.\u001b[0m\u001b[0mdevice\u001b[0m\u001b[0;34m(\u001b[0m\u001b[0;34m\"default.qubit\"\u001b[0m\u001b[0;34m,\u001b[0m \u001b[0mwires\u001b[0m\u001b[0;34m=\u001b[0m\u001b[0mn_qubits\u001b[0m\u001b[0;34m,\u001b[0m\u001b[0mshots\u001b[0m\u001b[0;34m=\u001b[0m\u001b[0;36m100\u001b[0m\u001b[0;34m)\u001b[0m\u001b[0;34m\u001b[0m\u001b[0;34m\u001b[0m\u001b[0m\n\u001b[0m\u001b[1;32m      3\u001b[0m \u001b[0;34m\u001b[0m\u001b[0m\n\u001b[1;32m      4\u001b[0m \u001b[0;34m@\u001b[0m\u001b[0mqml\u001b[0m\u001b[0;34m.\u001b[0m\u001b[0mqnode\u001b[0m\u001b[0;34m(\u001b[0m\u001b[0mdev\u001b[0m\u001b[0;34m)\u001b[0m\u001b[0;34m\u001b[0m\u001b[0;34m\u001b[0m\u001b[0m\n\u001b[1;32m      5\u001b[0m \u001b[0;32mdef\u001b[0m \u001b[0mcircuit\u001b[0m\u001b[0;34m(\u001b[0m\u001b[0mn_qubits\u001b[0m\u001b[0;34m)\u001b[0m\u001b[0;34m:\u001b[0m\u001b[0;34m\u001b[0m\u001b[0;34m\u001b[0m\u001b[0m\n",
            "\u001b[0;31mNameError\u001b[0m: name 'qml' is not defined"
          ]
        }
      ]
    },
    {
      "cell_type": "code",
      "source": [
        "\n",
        "def gerador_quantico(n_qb,shots):\n",
        "\n",
        "  n_qubits = n_qb\n",
        "  dev = qml.device(\"default.qubit\", wires=n_qubits,shots=shots)\n",
        "\n",
        "  @qml.qnode(dev)\n",
        "  def circuit(n_qubits):\n",
        "\n",
        "      for i in range(n_qubits):\n",
        "          qml.Hadamard(wires=i)\n",
        "\n",
        "      return qml.probs(wires=range(n_qubits))\n",
        "\n",
        "\n",
        "  circuit(n_qubits)\n",
        "\n",
        "  x = [str(bin(x))[2:] for x in range(2**n_qubits)]\n",
        "\n",
        "  #plt.bar(x,circuit(n_qubits))\n",
        "  #plt.title(\"Distribuição de medidas\")\n",
        "  #plt.show()\n",
        "\n",
        "  saida = circuit(n_qubits)\n",
        "  posicoes = np.where(saida == max(saida) )\n",
        "  #print(f\"posicoes: {posicoes[0][0]}\")\n",
        "\n",
        "  dec = int(x[posicoes[0][0]], 2)\n",
        "  #print(f\"Maxima probabilidade: {max(saida)}   valor:{x[posicoes[0][0]]}  valor decimal: {dec}\")\n",
        "\n",
        "  return dec"
      ],
      "metadata": {
        "id": "88fENN69CaQB"
      },
      "execution_count": null,
      "outputs": []
    },
    {
      "cell_type": "code",
      "source": [
        "def is_prime(number): #verifica se o numero é primo\n",
        "  if number < 2:\n",
        "    return False\n",
        "  for i in range(2, int(number ** 0.5) + 1):\n",
        "    if number % i == 0:\n",
        "      return False\n",
        "  return True\n",
        "\n",
        "\n",
        "n_qb = 8\n",
        "shots = 100\n",
        "qrn = []\n",
        "for i in range(100):\n",
        "  q = gerador_quantico(n_qb,shots)\n",
        "  if is_prime(q):\n",
        "    qrn.append(q)\n",
        "\n",
        "\n",
        "print(qrn)"
      ],
      "metadata": {
        "colab": {
          "base_uri": "https://localhost:8080/"
        },
        "id": "WSQEn4YDIf1O",
        "outputId": "72f777f0-2f38-4cfe-fb56-ad7812047edc"
      },
      "execution_count": null,
      "outputs": [
        {
          "output_type": "stream",
          "name": "stdout",
          "text": [
            "[113, 151, 43, 73, 7, 41, 191, 7, 5, 3, 137, 17, 17, 167, 7, 223, 17, 139, 2, 89, 131, 2, 13, 109, 29, 71, 41, 131]\n"
          ]
        }
      ]
    },
    {
      "cell_type": "markdown",
      "source": [
        "#algoritmo RSA"
      ],
      "metadata": {
        "id": "948j_BWrrtqP"
      }
    },
    {
      "cell_type": "code",
      "source": [
        "import random\n",
        "\n",
        "def gcd(a, b):\n",
        "    while b != 0:\n",
        "        a, b = b, a % b\n",
        "    return a\n",
        "\n",
        "def mod_inv(a, m):\n",
        "    m0, x0, x1 = m, 0, 1\n",
        "    while a > 1:\n",
        "        q = a // m\n",
        "        m, a = a % m, m\n",
        "        x0, x1 = x1 - q * x0, x0\n",
        "    return x1 + m0 if x1 < 0 else x1\n",
        "\n",
        "def is_prime(num):\n",
        "    if num < 2:\n",
        "        return False\n",
        "    for i in range(2, int(num ** 0.5) + 1):\n",
        "        if num % i == 0:\n",
        "            return False\n",
        "    return True\n",
        "\n",
        "def generate_keypair(p, q):\n",
        "    n = p * q\n",
        "    phi = (p - 1) * (q - 1)\n",
        "\n",
        "    print(f\"phi:{phi}\")\n",
        "\n",
        "    # gerar o numero aleatorio quantico neste trecho\n",
        "    e = random.randrange(1, phi)\n",
        "    while gcd(e, phi) != 1:\n",
        "        e = random.randrange(1, phi)\n",
        "\n",
        "    d = mod_inv(e, phi)\n",
        "    return ((e, n), (d, n))\n",
        "\n",
        "def encrypt(pk, plaintext):\n",
        "    e, n = pk\n",
        "    cipher = [pow(ord(char), e, n) for char in plaintext]\n",
        "    return cipher\n",
        "\n",
        "def decrypt(pk, ciphertext):\n",
        "    d, n = pk\n",
        "    plain = [chr(pow(char, d, n)) for char in ciphertext]\n",
        "    return ''.join(plain)\n",
        "\n",
        "# Exemplo de uso\n",
        "p = qrn[0]\n",
        "q = qrn[1]\n",
        "public_key, private_key = generate_keypair(p, q)\n",
        "\n",
        "message = \"Testando o uso de um gerador de número aleatório quântico no RSA!\"\n",
        "encrypted_message = encrypt(public_key, message)\n",
        "decrypted_message = decrypt(private_key, encrypted_message)\n",
        "\n",
        "print(\"public key: \",public_key)\n",
        "print(\"private key: \",private_key)\n",
        "print('Mensagem original:', message)\n",
        "print('Mensagem criptografada:', ''.join(map(lambda x: str(x), encrypted_message)))\n",
        "print('Mensagem descriptografada:', decrypted_message)\n"
      ],
      "metadata": {
        "colab": {
          "base_uri": "https://localhost:8080/"
        },
        "id": "-_FOgbdkrtEf",
        "outputId": "274d0c68-0333-49f0-bdfb-02363cd7b6dd"
      },
      "execution_count": null,
      "outputs": [
        {
          "output_type": "stream",
          "name": "stdout",
          "text": [
            "phi:16800\n",
            "public key:  (15611, 17063)\n",
            "private key:  (4691, 17063)\n",
            "Mensagem original: Testando o uso de um gerador de número aleatório quântico no RSA!\n",
            "Mensagem criptografada: 10090312711134847894329617772940420294042094961112940420177731274209496768042016493127463478941777294046344201777312742032966480768031274634294042078943074312778943484718946343511294042013334949672323296348435111221829404203296294042019088219821410538\n",
            "Mensagem descriptografada: Testando o uso de um gerador de número aleatório quântico no RSA!\n"
          ]
        }
      ]
    }
  ]
}