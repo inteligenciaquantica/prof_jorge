{
  "nbformat": 4,
  "nbformat_minor": 0,
  "metadata": {
    "colab": {
      "provenance": []
    },
    "kernelspec": {
      "name": "python3",
      "display_name": "Python 3"
    },
    "language_info": {
      "name": "python"
    }
  },
  "cells": [
    {
      "cell_type": "code",
      "source": [
        "class DENDRAL_Simulator:\n",
        "    def __init__(self):\n",
        "        # Tabelas de massas atômicas aproximadas\n",
        "        self.atomic_masses = {\n",
        "            'H': 1,  # Hidrogênio\n",
        "            'C': 12,  # Carbono\n",
        "            'O': 16,  # Oxigênio\n",
        "            'N': 14  # Nitrogênio\n",
        "        }\n",
        "\n",
        "        # Regras básicas de formação de moléculas\n",
        "        self.rules = {\n",
        "            'water': {'atoms': {'H': 2, 'O': 1}, 'mass': 18},\n",
        "            'methane': {'atoms': {'C': 1, 'H': 4}, 'mass': 16},\n",
        "            'carbon_dioxide': {'atoms': {'C': 1, 'O': 2}, 'mass': 44},\n",
        "            'ethanol': {'atoms': {'C': 2, 'H': 6, 'O': 1}, 'mass': 46},\n",
        "            'ammonia': {'atoms': {'N': 1, 'H': 3}, 'mass': 17},  # Adicionando amônia como exemplo\n",
        "            'nitrous_oxide': {'atoms': {'N': 2, 'O': 1}, 'mass': 44}  # Adicionando óxido nitroso como exemplo\n",
        "        }\n",
        "\n",
        "    def identify_molecule(self, mass):\n",
        "        \"\"\"\n",
        "        Tenta identificar a molécula com base na massa fornecida.\n",
        "        \"\"\"\n",
        "        possible_molecules = []\n",
        "        for molecule, info in self.rules.items():\n",
        "            if info['mass'] == mass:\n",
        "                possible_molecules.append(molecule)\n",
        "\n",
        "        if not possible_molecules:\n",
        "            return \"Nenhuma molécula correspondente encontrada.\"\n",
        "        else:\n",
        "            return f\"Possíveis moléculas: {', '.join(possible_molecules)}\"\n",
        "\n",
        "    def suggest_fragments(self, mass):\n",
        "        \"\"\"\n",
        "        Sugere fragmentos atômicos que podem ser combinados para atingir uma massa.\n",
        "        \"\"\"\n",
        "        possible_combinations = []\n",
        "\n",
        "        # Verifica todas as combinações possíveis de átomos que somam a massa fornecida\n",
        "        for h_count in range(mass // self.atomic_masses['H'] + 1):\n",
        "            for c_count in range(mass // self.atomic_masses['C'] + 1):\n",
        "                for o_count in range(mass // self.atomic_masses['O'] + 1):\n",
        "                    for n_count in range(mass // self.atomic_masses['N'] + 1):\n",
        "                        total_mass = (\n",
        "                            h_count * self.atomic_masses['H'] +\n",
        "                            c_count * self.atomic_masses['C'] +\n",
        "                            o_count * self.atomic_masses['O'] +\n",
        "                            n_count * self.atomic_masses['N']\n",
        "                        )\n",
        "                        if total_mass == mass:\n",
        "                            # Evitar sugestões químicas sem sentido como apenas \"16 H\" ou \"1 O\"\n",
        "                            if (h_count > 0 or c_count > 0 or n_count > 0) and (c_count > 0 or o_count > 0 or n_count > 0):\n",
        "                                possible_combinations.append(f\"{h_count} H, {c_count} C, {o_count} O, {n_count} N -- \")\n",
        "\n",
        "        if not possible_combinations:\n",
        "            return f\"Nenhuma combinação exata encontrada para {mass}u.\"\n",
        "        else:\n",
        "            return f\"Combinações sugeridas para {mass}u: {', '.join(possible_combinations)}\"\n",
        "\n",
        "\n",
        "# Exemplo de uso do simulador DENDRAL\n",
        "dendral = DENDRAL_Simulator()\n",
        "\n",
        "# Identificar molécula com massa de 17u (exemplo de amônia)\n",
        "massa = int(input(\"Digite a massa da molécula que deseja identificar (em u): \"))\n",
        "result_identify = dendral.identify_molecule(massa)\n",
        "\n",
        "# Sugerir fragmentos para construir uma massa de 16u\n",
        "frag = int(input(\"Sugerir fragmentos para construir uma massa de X u: \"))\n",
        "result_fragments = dendral.suggest_fragments(frag)\n",
        "\n",
        "result_identify, result_fragments\n"
      ],
      "metadata": {
        "colab": {
          "base_uri": "https://localhost:8080/"
        },
        "id": "tJyyIPZjXkD_",
        "outputId": "41d60b21-63af-405c-d30d-4c35f3462c68"
      },
      "execution_count": 30,
      "outputs": [
        {
          "name": "stdout",
          "output_type": "stream",
          "text": [
            "Digite a massa da molécula que deseja identificar (em u): 20\n",
            "Sugerir fragmentos para construir uma massa de X u: 20\n"
          ]
        },
        {
          "output_type": "execute_result",
          "data": {
            "text/plain": [
              "('Nenhuma molécula correspondente encontrada.',\n",
              " 'Combinações sugeridas para 20u: 4 H, 0 C, 1 O, 0 N -- , 6 H, 0 C, 0 O, 1 N -- , 8 H, 1 C, 0 O, 0 N -- ')"
            ]
          },
          "metadata": {},
          "execution_count": 30
        }
      ]
    }
  ]
}