{
  "nbformat": 4,
  "nbformat_minor": 0,
  "metadata": {
    "colab": {
      "provenance": []
    },
    "kernelspec": {
      "name": "python3",
      "display_name": "Python 3"
    },
    "language_info": {
      "name": "python"
    }
  },
  "cells": [
    {
      "cell_type": "code",
      "execution_count": 1,
      "metadata": {
        "colab": {
          "base_uri": "https://localhost:8080/"
        },
        "id": "Wihp1jyO7tOW",
        "outputId": "1b61922b-f1aa-4533-d8ca-bba2cc2ec9ea"
      },
      "outputs": [
        {
          "output_type": "stream",
          "name": "stdout",
          "text": [
            "Collecting pennylane\n",
            "  Downloading PennyLane-0.38.0-py3-none-any.whl.metadata (9.3 kB)\n",
            "Requirement already satisfied: numpy<2.0 in /usr/local/lib/python3.10/dist-packages (from pennylane) (1.26.4)\n",
            "Requirement already satisfied: scipy in /usr/local/lib/python3.10/dist-packages (from pennylane) (1.13.1)\n",
            "Requirement already satisfied: networkx in /usr/local/lib/python3.10/dist-packages (from pennylane) (3.4.2)\n",
            "Collecting rustworkx>=0.14.0 (from pennylane)\n",
            "  Downloading rustworkx-0.15.1-cp38-abi3-manylinux_2_17_x86_64.manylinux2014_x86_64.whl.metadata (9.9 kB)\n",
            "Requirement already satisfied: autograd in /usr/local/lib/python3.10/dist-packages (from pennylane) (1.7.0)\n",
            "Requirement already satisfied: toml in /usr/local/lib/python3.10/dist-packages (from pennylane) (0.10.2)\n",
            "Collecting appdirs (from pennylane)\n",
            "  Downloading appdirs-1.4.4-py2.py3-none-any.whl.metadata (9.0 kB)\n",
            "Collecting autoray>=0.6.11 (from pennylane)\n",
            "  Downloading autoray-0.7.0-py3-none-any.whl.metadata (5.8 kB)\n",
            "Requirement already satisfied: cachetools in /usr/local/lib/python3.10/dist-packages (from pennylane) (5.5.0)\n",
            "Collecting pennylane-lightning>=0.38 (from pennylane)\n",
            "  Downloading PennyLane_Lightning-0.38.0-cp310-cp310-manylinux_2_28_x86_64.whl.metadata (26 kB)\n",
            "Requirement already satisfied: requests in /usr/local/lib/python3.10/dist-packages (from pennylane) (2.32.3)\n",
            "Requirement already satisfied: typing-extensions in /usr/local/lib/python3.10/dist-packages (from pennylane) (4.12.2)\n",
            "Requirement already satisfied: packaging in /usr/local/lib/python3.10/dist-packages (from pennylane) (24.1)\n",
            "Requirement already satisfied: charset-normalizer<4,>=2 in /usr/local/lib/python3.10/dist-packages (from requests->pennylane) (3.4.0)\n",
            "Requirement already satisfied: idna<4,>=2.5 in /usr/local/lib/python3.10/dist-packages (from requests->pennylane) (3.10)\n",
            "Requirement already satisfied: urllib3<3,>=1.21.1 in /usr/local/lib/python3.10/dist-packages (from requests->pennylane) (2.2.3)\n",
            "Requirement already satisfied: certifi>=2017.4.17 in /usr/local/lib/python3.10/dist-packages (from requests->pennylane) (2024.8.30)\n",
            "Downloading PennyLane-0.38.0-py3-none-any.whl (1.9 MB)\n",
            "\u001b[2K   \u001b[90m━━━━━━━━━━━━━━━━━━━━━━━━━━━━━━━━━━━━━━━━\u001b[0m \u001b[32m1.9/1.9 MB\u001b[0m \u001b[31m18.0 MB/s\u001b[0m eta \u001b[36m0:00:00\u001b[0m\n",
            "\u001b[?25hDownloading autoray-0.7.0-py3-none-any.whl (930 kB)\n",
            "\u001b[2K   \u001b[90m━━━━━━━━━━━━━━━━━━━━━━━━━━━━━━━━━━━━━━━━\u001b[0m \u001b[32m930.0/930.0 kB\u001b[0m \u001b[31m25.3 MB/s\u001b[0m eta \u001b[36m0:00:00\u001b[0m\n",
            "\u001b[?25hDownloading PennyLane_Lightning-0.38.0-cp310-cp310-manylinux_2_28_x86_64.whl (15.3 MB)\n",
            "\u001b[2K   \u001b[90m━━━━━━━━━━━━━━━━━━━━━━━━━━━━━━━━━━━━━━━━\u001b[0m \u001b[32m15.3/15.3 MB\u001b[0m \u001b[31m41.2 MB/s\u001b[0m eta \u001b[36m0:00:00\u001b[0m\n",
            "\u001b[?25hDownloading rustworkx-0.15.1-cp38-abi3-manylinux_2_17_x86_64.manylinux2014_x86_64.whl (2.0 MB)\n",
            "\u001b[2K   \u001b[90m━━━━━━━━━━━━━━━━━━━━━━━━━━━━━━━━━━━━━━━━\u001b[0m \u001b[32m2.0/2.0 MB\u001b[0m \u001b[31m25.0 MB/s\u001b[0m eta \u001b[36m0:00:00\u001b[0m\n",
            "\u001b[?25hDownloading appdirs-1.4.4-py2.py3-none-any.whl (9.6 kB)\n",
            "Installing collected packages: appdirs, rustworkx, autoray, pennylane-lightning, pennylane\n",
            "Successfully installed appdirs-1.4.4 autoray-0.7.0 pennylane-0.38.0 pennylane-lightning-0.38.0 rustworkx-0.15.1\n"
          ]
        }
      ],
      "source": [
        "!pip install pennylane"
      ]
    },
    {
      "cell_type": "code",
      "source": [
        "import pennylane as qml\n",
        "from pennylane import numpy as np\n",
        "import matplotlib.pyplot as plt"
      ],
      "metadata": {
        "id": "Bph2T-nc76ya"
      },
      "execution_count": 2,
      "outputs": []
    },
    {
      "cell_type": "markdown",
      "source": [
        "#Parênteses sobre os elementos básico de um código no pennylane\n",
        "\n",
        "**Função decoradora:**\n",
        "\n",
        "Uma função decorada é uma função que foi modificada por meio de um decorador. Em Python, um decorador é um padrão de projeto que permite adicionar funcionalidades a uma função ou método existente sem modificar o seu código.\n",
        "\n",
        "Explicando em partes:\n",
        "1. **Decorador**: Um decorador é uma função que recebe outra função como entrada e retorna uma nova função, que geralmente envolve algum processamento adicional antes ou depois de chamar a função original.\n",
        "\n",
        "2. **Função decorada**: É a função original que foi passada ao decorador e que agora possui funcionalidades extras.\n",
        "\n",
        "Sintaxe de um decorador:\n",
        "\n",
        "Usa-se o símbolo **@** seguido do nome do decorador antes da definição de uma função. Vejamos o exemplo abaixo:\n",
        "\n",
        "\n"
      ],
      "metadata": {
        "id": "hWz5gy0U0a3R"
      }
    },
    {
      "cell_type": "code",
      "source": [
        "def meu_decorador(func):\n",
        "    def wrapper(*args, **kwargs):\n",
        "        print(\"Função sendo decorada.\")\n",
        "        resultado = func(*args, **kwargs)\n",
        "        print(\"Função foi executada.\")\n",
        "        return resultado\n",
        "    return wrapper\n",
        "\n",
        "@meu_decorador\n",
        "def minha_funcao():\n",
        "    print(\"Esta é a função original.\")\n",
        "\n",
        "minha_funcao()\n"
      ],
      "metadata": {
        "colab": {
          "base_uri": "https://localhost:8080/"
        },
        "id": "7XFhnwdA1VoR",
        "outputId": "7dd400f3-8baa-477b-e3b8-b2cc625fc66f"
      },
      "execution_count": 4,
      "outputs": [
        {
          "output_type": "stream",
          "name": "stdout",
          "text": [
            "Função sendo decorada.\n",
            "Esta é a função original.\n",
            "Função foi executada.\n"
          ]
        }
      ]
    },
    {
      "cell_type": "markdown",
      "source": [
        "**Explicação do código:**\n",
        "\n",
        "meu_decorador é o decorador, que recebe uma função (func) como argumento.\n",
        "Dentro do decorador, é definida uma nova função wrapper que envolve (wraps) a função original func.\n",
        "\n",
        "O wrapper pode fazer algo antes de chamar func (como imprimir \"Função sendo decorada.\") e depois de chamar func (como imprimir \"Função foi executada.\").\n",
        "\n",
        "Ao aplicar @meu_decorador em minha_funcao, a função minha_funcao é automaticamente passada como argumento para o decorador meu_decorador. Isso transforma minha_funcao em uma função decorada que inclui o comportamento do wrapper.\n",
        "\n",
        "Por que usar decoradores?\n",
        "\n",
        "Decoradores são úteis para:\n",
        "\n",
        "\n",
        "\n",
        "*   Adicionar comportamentos: Como logging, validação de permissões, contagem de execuções, etc.\n",
        "*   Reutilização de código: Facilita a adição de funcionalidades sem modificar a lógica principal da função.Item da lista\n",
        "*   Separação de responsabilidades: Mantém o código mais organizado e modular.\n",
        "\n",
        "Relacionando com PennyLane\n",
        "\n",
        "No caso do PennyLane, o decorador\n",
        "\n",
        "```\n",
        "@qml.qnode(dev)\n",
        "```\n",
        "\n",
        " serve para transformar a função definida (meu_circuito) em um circuito quântico que pode ser executado em um dispositivo (simulado ou real). O decorador realiza configurações internas para gerenciar a execução e medição do circuito.\n",
        "\n",
        " EXEMPLO:"
      ],
      "metadata": {
        "id": "hinr_4Lt2Y7B"
      }
    },
    {
      "cell_type": "code",
      "source": [
        "dev = qml.device(\"default.qubit\", wires=1)\n",
        "\n",
        "@qml.qnode(dev)\n",
        "def superposicao():\n",
        "  qml.Hadamard(wires=0)\n",
        "  return qml.probs(wires=0)\n",
        "\n",
        "\n",
        "\n",
        "y = superposicao()\n",
        "\n",
        "print(y)"
      ],
      "metadata": {
        "colab": {
          "base_uri": "https://localhost:8080/"
        },
        "id": "8Lz0ERi973CI",
        "outputId": "d0805f3a-28f3-4df9-95da-a581ac4837b0"
      },
      "execution_count": 6,
      "outputs": [
        {
          "output_type": "stream",
          "name": "stdout",
          "text": [
            "[0.5 0.5]\n"
          ]
        }
      ]
    },
    {
      "cell_type": "markdown",
      "source": [
        "EXERCICIOS:\n",
        "\n",
        "1. Explique cada linha do código acima"
      ],
      "metadata": {
        "id": "SnTzAqTf8g94"
      }
    },
    {
      "cell_type": "markdown",
      "source": [
        "**Lidando com múltiplos qubits**\n",
        "\n",
        "Considere um circuito quântico com dois qubits, uma posta de Hadamard (H) para ao qubit $|0>$ (primeiro qubit) e uma porta PauliZ (Z) para o qubit $|1>$ (segundo qubit). Como escrever os estados finais?\n",
        "\n",
        "\n",
        "|\\psi>\n",
        "\n",
        "$\\hspace{2cm} H\\otimes Z \\times |0>\\otimes |1>  =  \\frac{1}{\\sqrt(2)}(|01> + |11>) \\hspace{2cm}    (2)\\\\[1cm]$\n",
        "\n",
        "Agora, vamos testar!"
      ],
      "metadata": {
        "id": "KnvQ9xhcFZTf"
      }
    },
    {
      "cell_type": "code",
      "source": [
        "dev = qml.device(\"default.qubit\", wires=2)\n",
        "\n",
        "@qml.qnode(dev)\n",
        "def superposicao():\n",
        "  qml.Hadamard(wires=0)\n",
        "  qml.PauliX(wires=1)\n",
        "  qml.PauliZ(wires=1)\n",
        "  return qml.probs(wires=[0,1])\n",
        "\n",
        "y = superposicao()\n",
        "\n",
        "print(y)\n",
        "\n",
        "x =['00','01','10','11']\n",
        "plt.bar(x,y)\n",
        "plt.xticks(rotation = 90)\n",
        "plt.xlabel(\"estados\")\n",
        "plt.ylabel(\"Frequencias\")\n",
        "plt.show()"
      ],
      "metadata": {
        "colab": {
          "base_uri": "https://localhost:8080/",
          "height": 470
        },
        "id": "7M9t6OE4HwGp",
        "outputId": "aa6d3644-fc7e-469f-e5e3-5aad428015e3"
      },
      "execution_count": 16,
      "outputs": [
        {
          "output_type": "stream",
          "name": "stdout",
          "text": [
            "[0.  0.5 0.  0.5]\n"
          ]
        },
        {
          "output_type": "display_data",
          "data": {
            "text/plain": [
              "<Figure size 640x480 with 1 Axes>"
            ],
            "image/png": "[encoded data removed]"
          },
          "metadata": {}
        }
      ]
    },
    {
      "cell_type": "markdown",
      "source": [
        "EXERCICIO\n",
        "0. Por que foi inserida uma porta PauliX no circuito?\n",
        "1. Faça os cálculos trocando a posição das portas H e Z e verifique o resultado:\n",
        "\n",
        "$\\hspace{2cm} Z\\otimes H \\times |0>\\otimes |1>  = \\frac{1}{\\sqrt{2}}(|00> - |01>) \\hspace{2cm}    (2)\\\\[1cm]$\n",
        "2. Refaça o circuito acima e valide seu resultado."
      ],
      "metadata": {
        "id": "wrVsRbB-IxQB"
      }
    },
    {
      "cell_type": "code",
      "source": [
        "#Escreva e rode seu código de validação aqui!"
      ],
      "metadata": {
        "id": "KBeqMhzWKPvx"
      },
      "execution_count": null,
      "outputs": []
    },
    {
      "cell_type": "markdown",
      "source": [
        "#Cuidado com as ordens de significância dos qubits (cima para baixo ou baixo para cima) para saber a ordem dos produtos tensoriais!"
      ],
      "metadata": {
        "id": "8LzZYA8iLgKQ"
      }
    },
    {
      "cell_type": "markdown",
      "source": [
        "**qubit e esfera de Bloch**\n",
        "\n",
        "Um qubit representa um estado físico de alguma propriendade (spin, energia, momento angular etc) de um objeto físico como um elétron, fóton, íon etc. Na sua forma mais geral, um qubit é dado por:\n",
        "\n",
        "$ \\hspace{2cm} |\\psi> = \\alpha|0>+\\beta|1>  \\hspace{2cm}$     ()\n",
        "\n",
        "Lembrando que $\\alpha$ e $\\beta$ são números complexos, podem ser escritos na forma polar como:\n",
        "\n",
        "$ \\hspace{2cm} \\alpha = r_{1}e^{\\phi_{1}}$ e $\\beta = r_{2}e^{\\phi_{2}} \\hspace{2cm}$\n",
        "\n",
        "substituindo na eq. (), temos:\n",
        "\n",
        "$ \\hspace{2cm} |\\psi> = r_{1}e^{\\phi_{1}}|0>+r_{2}e^{\\phi_{2}} \\beta|1>  \\hspace{2cm}$\n",
        "\n",
        "Multiplicando os dois lados da eq. () por $e^{-\\phi_{1}}$ ficamos com:\n",
        "\n",
        "$ \\hspace{2cm} e^{-\\phi_{1}}|\\psi> = r_{1}|0>+r_{2}e^{\\phi_{2}-\\phi_{1}}|1>  \\hspace{2cm}$\n",
        "\n",
        "\n",
        "O módulo de $|\\psi>$ é $<\\psi|\\psi>$ deve ser igual a 1 porque o estado $|\\psi>$ é normalizado. Também o módulo de $e^{-\\phi_{1}}|\\psi>$ deve ser normalizo, logo deve ser igual a $<\\psi|\\psi> = 1$. Sabemos que,\n",
        "\n",
        "$\\hspace{2cm} |\\alpha|^{2} + |\\beta|^{2} = 1 \\hspace{2cm}$\n",
        "\n",
        "Poranto,\n",
        "\n",
        "$ \\hspace{2cm}  r_{1}*r_{1}e^{-\\phi_{1}}*e^{\\phi_{1}} +r_{2}*r_{2}e^{-\\phi_{2}}*e^{-\\phi_{2}}$\n",
        "\n",
        "Logo,\n",
        "\n",
        "$\\hspace{2cm} r_{1}^{2} + r_{2}^{2} = 1  \\hspace{2cm}$\n",
        "\n",
        "ou $\\hspace{2cm} cos^{2}(\\frac{\\theta}{2}) + sen^{2}(\\frac{\\theta}{2}) = 1  \\hspace{2cm}$\n",
        "\n",
        "Então,\n",
        "\n",
        "$ \\hspace{2cm} |\\psi> = cos^{2}(\\frac{\\theta}{2})|0>+e^{\\phi}sen^{2}(\\frac{\\theta}{2})|1>  \\hspace{2cm}$,\n",
        "\n",
        "onde  $\\phi = \\phi_{2} - \\phi_{1}$.\n",
        "\n",
        "Observe que a fase $e^{-\\phi_{1}}$ é arbitrária e pode ser considerada igua a 1, pois isso, não afeta o módulo de $|\\psi>$.\n",
        "\n",
        "\n",
        "A notação geral acima é muito importante porque nos diz que um qubit depende apneas de um ângulo $\\theta$ e um ângulo $\\phi$. Isto é, o qubit é um vetor que vive numa esfera de raio igual a $<\\psi|\\psi> = 1$ e pode girar em torno de dois eixos. Essa esfera é conhecida como espera de Bloch e tudo o que fazemos com o qubit é mudar sua posição na esfera por meio de portas lógicas quânticas.\n",
        "\n",
        "\n",
        "**Operadores Unitários (portas lógicas quânticas)**\n",
        "\n",
        "Os operadores unitários ($U$) são matrizes com as seguintes propriedades:\n",
        "\n",
        "1. a matrix $U$ deve ser quadrada (num. de linhas = num. de colunas)\n",
        "2. todos os elemento da matriz $U$ são números complexos\n",
        "3. existe o conjudado complexo transposto da matriz $U$, que simbolizamos por $U^{\\dagger}$\n",
        "4. o produto $UU^{\\dagger}$ ou $U^{\\dagger}U$ deve ser identicamente igual a matriz identidade $I$\n",
        "5. ao ser aplicada sobre um qubit ($U|\\psi>=|\\phi>$), cria um novo estado $|\\phi>$, que já nasce normalizado.\n",
        "\n",
        "\n",
        "Os operadores unitários descrever a evolução temporal de um qubit num sistema físico eles podem girar os qubits na esfera de Bloch para produzir computação.\n",
        "\n",
        "A forma geral de operador unitário é dada por:\n",
        "\n",
        "\n",
        "$$U(\\theta,\\phi,\\lambda) = \\left [\\begin{array}{cccc}\n",
        "  cos(\\frac{\\theta}{2})&-e^{i\\lambda}sen(\\frac{\\theta}{2}) \\\\\n",
        "  e^{i\\phi}sen(\\frac{\\theta}{2})&e^{i(\\phi+\\lambda)}cos(\\frac{\\theta}{2}) \\\\\n",
        "\\end{array}\\right ]$$\n",
        "\n",
        "O ângulo\n",
        "Com a matriz acima, podemos criar todas as portas lógicas quânticas que desejarmos. Por exempo, para $\\theta=\\pi$, $\\lambda= 3\\pi/2$  e $\\phi=0$ temos:\n",
        "\n",
        "\n",
        "$$U(\\theta,\\phi,\\lambda) = \\left [\\begin{array}{cccc}\n",
        "  0&1 \\\\\n",
        "  1&0 \\\\\n",
        "\\end{array}\\right ] = X$$\n",
        "\n",
        "\n",
        "https://bloch.kherb.io/\n",
        "\n",
        "\n",
        "EXERCICIOS: Quais os valores de $\\theta=?$, $\\lambda= ?\\pi/2$  e $\\phi=?$ para criar uma porta quântica:\n",
        "\n",
        "1. Z\n",
        "2. Y\n",
        "3. H\n",
        "4. RX"
      ],
      "metadata": {
        "id": "M6LDGNDsMKZK"
      }
    },
    {
      "cell_type": "markdown",
      "source": [
        "#Introdução\n",
        "\n",
        "Na computação clássica, estudamos os problemas e a solução, em geral, surge por meio de um algortmo computacional, que nada mais é do que uma lista de passos para resolver o problema. Na computação quântica, a ideia é a mesma; porém, a lógica para construção de algoritmos é diferente já que os computadores quânticos utilizam as propriedades dos fenômenos físicos quânticos para produzir a acomputação. Desse modo é necessário ter pouco de conhecimento da matemática e da física quântica para criar algoritmos quânticos úteis.\n",
        "\n",
        "Algumas propriedades quânticas como a superposição de estados e o entrelaçamento são consideradas o coração de um sistema quântico como um computador quântico e devemos utilizá-las na construção de nossos algoritmos quânticos.\n",
        "\n",
        "\n",
        "#0.Superposição\n",
        "\n",
        "Um sistema quântico pode ser composto por apenas um único elétron onde, sua energia, momentum, spin ou momento angular são propriedades do elétron e, cada uma delas, poderia ser utilizada como um qubit ou um estado do sistema. O spin do elétron pode estar em um de dois estados possíveis: up (para cima - $|0>$) ou down (para baixo- $|1>$). Todavia, no mundo quântico, o elétron pode estar nos DOIS estados ao mesmo tempo, formando uma combinação linear dada por por um novo estado, de superposição:\n",
        "$ \\hspace{2cm} |\\psi> = \\alpha|0>+\\beta|1>  \\hspace{2cm}   (1)\\\\[1cm]$\n",
        "\n",
        "O estado apresentado na eq. (1) representa o qubit. Enquanto não medimos o spin, o eletron existem nos dois estados (up e down) ao mesmo tempo. Ao realizarmo uma medida poderemos obter o valor 0 ou o valor 1. Se repetirmos muitas vezes a mesma medida, teremos uma distribuição de frequências de 0 e 1. Aprobabilidade de encontrarmos o spin no estado $|0>$ é dada por $|\\alpha|^{2}$ e a probabilidade de encontrar o spin no estado $|1>$ é dada por $|\\beta|^{2}$, tal que:\n",
        "\n",
        "$\\hspace{2cm} |\\alpha|^{2} + |\\beta|^{2} = 1 \\hspace{2cm}    (2)\\\\[1cm]$\n",
        "\n",
        "Podemo fazer a superposição de n qubits utilizando n portas de Hadamard, uma para cada qubit:\n",
        "\n",
        "$\\hspace{2cm}H|0>=\\frac{1}{\\sqrt{2}}(|0>+|1>)\\\\[1cm]$\n",
        "\n",
        "$\\hspace{2cm}H\\otimes H|0>=\\frac{1}{\\sqrt{2}}(|0>+|1>)\\otimes \\frac{1}{\\sqrt{2}}(|0>+|1>) = \\frac{1}{2}(|00>+|01>+|10>+|11>)\\\\[1cm]$\n",
        "\n",
        "Ou de modo geral, para n qubits:\n",
        "\n",
        "$ \\hspace{2cm} H^{\\otimes n}|0>=\\frac{1}{\\sqrt{2^{n}}}\\sum_{\\vec{x}\\in\\{0,1\\}^{n}}|\\vec{x}>\\\\[1cm]$\n",
        "\n",
        "Onde, $\\{0,1\\}^{1}=\\{0,1\\}$ ou  $\\{0,1\\}^{2}=\\{00,01,10,11\\}\\\\[1cm]$\n",
        "\n",
        "Agora, vamos construir um algoritmo que realiza a superposição de n qubits!\n",
        "\n",
        "\n",
        "\n",
        "\n",
        "\n",
        "\n",
        "\n"
      ],
      "metadata": {
        "id": "ZlaVVrzl8CTC"
      }
    },
    {
      "cell_type": "code",
      "source": [
        "#----- Algoritmo quântico para superposição de n qubits -----\n",
        "\n",
        "n_qubits = 2\n",
        "\n",
        "dev = qml.device(\"default.qubit\", wires=n_qubits)\n",
        "\n",
        "@qml.qnode(dev)\n",
        "def superposicao(n_qubits):\n",
        "  for i in range(n_qubits):\n",
        "    qml.Hadamard(wires=i)\n",
        "  return qml.probs(wires=range(n_qubits))\n",
        "\n",
        "\n",
        "\n",
        "y = superposicao(n_qubits)\n",
        "x = [str(bin(i)) for i in range(2**n_qubits)]\n",
        "\n",
        "\n",
        "\n",
        "\n",
        "#----- circuito -----\n",
        "\n",
        "dw = qml.draw(superposicao)\n",
        "\n",
        "#----- distribuição de estados ----\n",
        "print(\"Cirucuito: \\n\")\n",
        "print(dw(n_qubits))\n",
        "\n",
        "print(\"\\n Medidas: \\n\")\n",
        "plt.bar(x,y)\n",
        "plt.xlabel(\"estados\")\n",
        "plt.ylabel(\"Frequencias\")\n",
        "plt.show()"
      ],
      "metadata": {
        "colab": {
          "base_uri": "https://localhost:8080/",
          "height": 570
        },
        "id": "iWaN17S9lRkK",
        "outputId": "85f02501-66b6-4c9e-82a9-5d2c916649b5"
      },
      "execution_count": 3,
      "outputs": [
        {
          "output_type": "stream",
          "name": "stdout",
          "text": [
            "Cirucuito: \n",
            "\n",
            "0: ──H─┤ ╭Probs\n",
            "1: ──H─┤ ╰Probs\n",
            "\n",
            " Medidas: \n",
            "\n"
          ]
        },
        {
          "output_type": "display_data",
          "data": {
            "text/plain": [
              "<Figure size 640x480 with 1 Axes>"
            ],
            "image/png": "[encoded data removed]"
          },
          "metadata": {}
        }
      ]
    },
    {
      "cell_type": "markdown",
      "source": [
        "#Exercicios\n",
        "1. Qual o significado do grafico acima?\n",
        "2. Quantos estados são possiveis com 1, com 3 e com 4 qubits?\n",
        "3. No caso de um cadeado binário com 3 dígitos, a superposição pode gerar o segredo para abrir o cadeado?\n",
        "4. No caso de a resposta da questão 3 for afirmativa, como saber quais dos estados medidos é a senha do cadeado?  "
      ],
      "metadata": {
        "id": "2epAtYvzqvwS"
      }
    },
    {
      "cell_type": "markdown",
      "source": [
        "#Gerador de Número Aleatório Quântico\n",
        "\n",
        "A simulação computacional de processos é uma área que vem crescendo a cada dia, ela pode ser útil para:\n",
        "\n",
        "* prever uma situação futura dependendo de um cenário;\n",
        "* prever uma situação passada;\n",
        "* estudar a causa de um fenômeno;\n",
        "* reduzir custos em ensaios destrutivos;\n",
        "* mitigar riscos em ensaios não destrutivos.\n",
        "\n",
        "A simulação computacional é utilizada em todos os ramos da Indútria, Saúde e Medicina, Desenvolvimento de novas materiais, métodos etc. Para realizar uma simulação computacional é necessário criar um modelo matemático do problema que deseja solucionar e, em seguida, validar o modelo com dados reais. Após a avlidação, o modelo pode ser utilizado para realizar simulações. Todavia, a acurácia e precisão dos resultados da simulação está fortemente relacionadas com o a qualidade do gerador de números aletórios (GNA). \\\\\n",
        "\n",
        "Como sabemos, um computador clássico não pode gerar um número aleatório puro por que é um autômato linear e isso implica que um algoritmo de geração de números aletórios deve ser recursivo, isto é, o próximo número gerado depende no valor anterior. Então dizemos que um computador só consegue gerar números pseudo-aleatórios e isso é um problema já que na antureza os fenômenos sçao verdadeiramente aleatórios. \\\\\n",
        "\n",
        "A boa notícia é que podemos gerara números aleatórios verdadeiros utilizando um comptador quântico. Isso é possível porque um computador quântico utiliza as propriedades físicas quânticas da matéria para realizar a computação. Como um primeiro experimento, vamos criar um Gerador de Números Aletórios Quânticos (Quantum Random Number Generator - QRNG) e em seguida vamos aplicá-lo num algoritmo de criptografia RSA.\n",
        "\n",
        "\n",
        "\n",
        "\n"
      ],
      "metadata": {
        "id": "lN3DbXWS6q1f"
      }
    },
    {
      "cell_type": "markdown",
      "source": [
        "#1. Criptografia quase quântica\n",
        "\n",
        "A ideia aqui e construir um QRNG que sirva como gerador aletário para um algoritmo de criptografia RSA. Vamos fazer esse experimento em das fases:\n",
        " ConstruO algoritmo abaixo gera números aleatórios verdadeiros se você\n",
        "\n",
        "\n",
        "1.   Construção do algoritmo que gera números aleatórios verdadeiros\n",
        "2.   Aplicação no algoritmo de criptografia RSA\n",
        "\n",
        "\n",
        "\n",
        "\n",
        "\n",
        "\n",
        "\n",
        "```\n",
        "import random\n",
        "from sympy import isprime, mod_inverse\n",
        "\n",
        "def generate_prime_candidate(length):\n",
        "    \"\"\"Gera um candidato a primo de um determinado comprimento.\"\"\"\n",
        "    p = 0\n",
        "    while not isprime(p):\n",
        "        p = random.getrandbits(length)\n",
        "    return p\n",
        "\n",
        "def generate_prime_number(length):\n",
        "    \"\"\"Gera um número primo de um determinado comprimento.\"\"\"\n",
        "    p = generate_prime_candidate(length)\n",
        "    return p\n",
        "\n",
        "def generate_keypair(bits):\n",
        "    \"\"\"Gera um par de chaves RSA públicas e privadas.\"\"\"\n",
        "    p = generate_prime_number(bits)\n",
        "    q = generate_prime_number(bits)\n",
        "    \n",
        "    while p == q:\n",
        "        q = generate_prime_number(bits)\n",
        "\n",
        "    n = p * q\n",
        "    phi = (p - 1) * (q - 1)\n",
        "\n",
        "    e = 65537  # Um valor comum para e\n",
        "    d = mod_inverse(e, phi)\n",
        "\n",
        "    return ((e, n), (d, n))  # (chave pública, chave privada)\n",
        "\n",
        "def encrypt(public_key, plaintext):\n",
        "    \"\"\"Criptografa uma mensagem usando a chave pública.\"\"\"\n",
        "    e, n = public_key\n",
        "    ciphertext = [pow(ord(char), e, n) for char in plaintext]\n",
        "    return ciphertext\n",
        "\n",
        "def decrypt(private_key, ciphertext):\n",
        "    \"\"\"Descriptografa uma mensagem usando a chave privada.\"\"\"\n",
        "    d, n = private_key\n",
        "    plaintext = ''.join([chr(pow(char, d, n)) for char in ciphertext])\n",
        "    return plaintext\n",
        "\n",
        "# Exemplo de uso\n",
        "if __name__ == \"__main__\":\n",
        "    bits = 8  # Para simplificação; use 1024 ou mais para segurança real\n",
        "    public_key, private_key = generate_keypair(bits)\n",
        "\n",
        "    message = \"Olá Mundo Quantico!\"\n",
        "    print(f\"Mensagem original: {message}\")\n",
        "\n",
        "    encrypted_msg = encrypt(public_key, message)\n",
        "    print(f\"Mensagem criptografada: {encrypted_msg}\")\n",
        "\n",
        "    decrypted_msg = decrypt(private_key, encrypted_msg)\n",
        "    print(f\"Mensagem descriptografada: {decrypted_msg}\")\n",
        "```\n",
        "\n"
      ],
      "metadata": {
        "id": "0q3oWtP9BZOA"
      }
    },
    {
      "cell_type": "markdown",
      "source": [
        "#1.1 QRNG"
      ],
      "metadata": {
        "id": "v9aOo3-lDopR"
      }
    },
    {
      "cell_type": "code",
      "source": [
        "n_qubits = 2\n",
        "n_shots = 100\n",
        "\n",
        "dev = qml.device(\"default.qubit\", wires=n_qubits,shots=n_shots)\n",
        "\n",
        "@qml.qnode(dev)\n",
        "def superposicao(n_qubits):\n",
        "  for i in range(n_qubits):\n",
        "    qml.Hadamard(wires=i)\n",
        "  return qml.probs(wires=range(n_qubits))\n",
        "\n",
        "\n",
        "\n",
        "y = superposicao(n_qubits)\n",
        "x = [str(bin(i)) for i in range(2**n_qubits)]\n",
        "\n",
        "#----- desenha circuito -----\n",
        "\n",
        "dw = qml.draw(superposicao)\n",
        "\n",
        "#----- distribuição de estados ----\n",
        "print(\"Cirucuito: \\n\")\n",
        "print(dw(n_qubits))\n",
        "\n",
        "print(\"Medidas: \\n\")\n",
        "plt.bar(x,y)\n",
        "plt.xticks(rotation = 90)\n",
        "plt.xlabel(\"estados\")\n",
        "plt.ylabel(\"Frequencias\")\n",
        "plt.show()"
      ],
      "metadata": {
        "colab": {
          "base_uri": "https://localhost:8080/",
          "height": 575
        },
        "id": "DaNyEjXvDtNA",
        "outputId": "d56b32b6-2acb-45c2-c0f1-8c82e391e039"
      },
      "execution_count": 15,
      "outputs": [
        {
          "output_type": "stream",
          "name": "stdout",
          "text": [
            "Cirucuito: \n",
            "\n",
            "0: ──H─┤ ╭Probs\n",
            "1: ──H─┤ ╰Probs\n",
            "Medidas: \n",
            "\n"
          ]
        },
        {
          "output_type": "display_data",
          "data": {
            "text/plain": [
              "<Figure size 640x480 with 1 Axes>"
            ],
            "image/png": "[encoded data removed]"
          },
          "metadata": {}
        }
      ]
    },
    {
      "cell_type": "markdown",
      "source": [
        "1. Rode 3 vezes o código acima observando o resultado no gráfico acima\n",
        "2. Qual o sginificado do gráfico?\n",
        "3. Acrescente um trrecho de código para pegar a medida mais próvável.\n",
        "4. Utilize os resultados do item 3. e aplique-os no lagortimo de criptografia mostrado na seção Criptografia Quase Quântica. Escreva e teste sua criptografia no trecho de código abaixo:"
      ],
      "metadata": {
        "id": "GOIDsE2FFP8y"
      }
    },
    {
      "cell_type": "code",
      "source": [
        "#Escreve seu algoritmo RSA quase Quântico aqui!"
      ],
      "metadata": {
        "id": "cLXArYLGGpe5"
      },
      "execution_count": null,
      "outputs": []
    },
    {
      "cell_type": "markdown",
      "source": [
        "5. (Reflexão) Como lidar com uma computação aleatória, isto é, não determinística?"
      ],
      "metadata": {
        "id": "9E2YxLlaFA4s"
      }
    },
    {
      "cell_type": "markdown",
      "source": [
        "#2. Oráculos\n",
        "\n",
        "Na Grécia antiga, os oráculos eram instituições religiosas e locais sagrados onde as pessoas buscavam respostas de deuses sobre questões importantes da vida, como decisões pessoais, guerras e questões políticas. O mais famoso deles era o Oráculo de Delfos, onde a Pítia, uma sacerdotisa, entrava em transe e proferia profecias que eram interpretadas pelos sacerdotes. \\\\\n",
        "\n",
        "Na computação quântica também utilizamos um tipo de oráculo quântico quando queremos encontrar uma medida específica dentro de um conjunto de n medidas. Considere os resultados de uma medida para um circuito de 2 qubits. As possiveis medidas retornarão os  resultados: 00, 01, 10 e 11. Agora, considere que o segredo do cadeado e a medida 10. Bem, como mostrar a penas o resulrado 10, isto é, o segredo? \\\\\n",
        "\n",
        "Os estados que produziram as 4 medidas acima são: $|00>,|01>,|10> e |11>$, respectivamente. Vamos chamar qualquer estado de $|\\vec{x}>$ e o estado que representa o segredo do cadeado de $|\\vec{s}>$. Desse modo, podemos extender a ideia para estados com n qubits (cada qubit conterá a string binária da distribuição de estados, inclusive a string com o segredo, como já vimos anteriormente). \\\\\n",
        "\n",
        "Precisamos criar uma marca quando $|\\vec{x}> = |\\vec{s}>$. Isso pode ser realizado por meio de uma mudança de fase no estado $|\\vec{x}>$. Como sabemos, uma mudança de fase não altera a amplitude do estado, então, podemos utilizar uma operação unitária $U_{f}$ para realizar essa transformação do seguinte modo:\n",
        "\n",
        "\n",
        "$$ U_{f}|\\vec{x}> = (-1)^{f(\\vec{x})}|\\vec{x}>$$ \\\\\n",
        "\n",
        "\n",
        "$$f(\\vec{x})= \\{\\begin{array}{cc}\n",
        "1 & se \\hspace{1cm} \\vec{x}=\\vec{s}  \\\\\n",
        "0 & se \\hspace{1cm} \\vec{x}\\ne\\vec{s} \\\\\n",
        "\\end{array}$$\n",
        "\n",
        "ou\n",
        "\n",
        "$$U_{f}|\\vec{x}> = \\{\\begin{array}{cc}\n",
        " -|\\vec{x}>& se \\hspace{1cm} \\vec{x}=\\vec{s}  \\\\\n",
        "|\\vec{x}> & se \\hspace{1cm} \\vec{x}\\ne\\vec{s} \\\\\n",
        "\\end{array}$$\n",
        "\n",
        "Como deveria ser o operado unitário mudança de fase $U_{f}$? \\\\\n",
        "\n",
        "$$U_{f}=I-2|\\vec{s}><\\vec{s}|$$ \\\\\n",
        "\n",
        "Onde $|\\vec{s}><\\vec{s}|$ é um projetor! Considere $|\\vec{s}>=|10>$ vamos encontrar o operador mudança de base para $|10>$: \\\\\n",
        "\n",
        "Como nossa string é composta por apenas dois qubits, ao realizarmos uma medida devemos encontrar todos os estados permitidos, ou seja, $2^{2}=4$ estados superpostos onde um deles deve ser o estado $|10>$. Desse modo, teremor uma matriz identidade $I_{(4x4)}$ dada por: \\\\\n",
        "\n",
        "\n",
        "$$I = \\left [\\begin{array}{cccc}\n",
        "  1&0&0&0 \\\\\n",
        "  0&1&0&0 \\\\\n",
        "  0&0&1&0 \\\\\n",
        "  0&0&0&1 \\\\\n",
        "\\end{array}\\right ]$$\n",
        "\n",
        "e nosso projetor dador por:\n",
        "\n",
        "$$2|\\vec{s}><\\vec{s}| =2\\times \\left [\\begin{array}{c}\n",
        "  0 \\\\\n",
        "  0 \\\\\n",
        "  1 \\\\\n",
        "  0 \\\\\n",
        "\\end{array}\\right ] \\left [\\begin{array}{cccc}\n",
        "  0&0&1&0 \\\\\n",
        "\\end{array}\\right ] = \\left [\\begin{array}{cccc}\n",
        "  0&0&0&0 \\\\\n",
        "  0&0&0&0 \\\\\n",
        "  0&0&1&0 \\\\\n",
        "  0&0&0&0 \\\\\n",
        "\\end{array}\\right ]$$  \n",
        "\n",
        "logo, \\\\\n",
        "\n",
        "\n",
        "$$ U_{f}=I - 2|\\vec{s}><\\vec{s}|=\\left [\\begin{array}{cccc}\n",
        "  1&0&0&0 \\\\\n",
        "  0&1&0&0 \\\\\n",
        "  0&0&-1&0 \\\\\n",
        "  0&0&0&1 \\\\\n",
        "\\end{array}\\right ]$$\n",
        "\n",
        "Observe que o operador $U_{f}$ é unitário, isto é, $U_{f}^{\\dagger}U_{f}=I$. Agora, vamos aplicá-lo sobre os 4 estados e ver o resultado: \\\\\n",
        "\n",
        "$$ U_{f}|00>=\\left [\\begin{array}{cccc}\n",
        "  1&0&0&0 \\\\\n",
        "  0&1&0&0 \\\\\n",
        "  0&0&-1&0 \\\\\n",
        "  0&0&0&1 \\\\\n",
        "\\end{array}\\right ] \\left [\\begin{array}{c}\n",
        "  1\\\\\n",
        "  0\\\\\n",
        "  0\\\\\n",
        "  0\\\\\n",
        "\\end{array}\\right ] = \\left [\\begin{array}{c}\n",
        "  1\\\\\n",
        "  0\\\\\n",
        "  0\\\\\n",
        "  0\\\\\n",
        "\\end{array}\\right ]=|00>$$ \\\\\n",
        "\n",
        "$$ U_{f}|01>=\\left [\\begin{array}{cccc}\n",
        "  1&0&0&0 \\\\\n",
        "  0&1&0&0 \\\\\n",
        "  0&0&-1&0 \\\\\n",
        "  0&0&0&1 \\\\\n",
        "\\end{array}\\right ] \\left [\\begin{array}{c}\n",
        "  0\\\\\n",
        "  1\\\\\n",
        "  0\\\\\n",
        "  0\\\\\n",
        "\\end{array}\\right ] = \\left [\\begin{array}{c}\n",
        "  0\\\\\n",
        "  1\\\\\n",
        "  0\\\\\n",
        "  0\\\\\n",
        "\\end{array}\\right ]=|01>$$\\\\\n",
        "\n",
        "$$ U_{f}|10>=\\left [\\begin{array}{cccc}\n",
        "  1&0&0&0 \\\\\n",
        "  0&1&0&0 \\\\\n",
        "  0&0&-1&0 \\\\\n",
        "  0&0&0&1 \\\\\n",
        "\\end{array}\\right ] \\left [\\begin{array}{c}\n",
        "  0\\\\\n",
        "  0\\\\\n",
        "  1\\\\\n",
        "  0\\\\\n",
        "\\end{array}\\right ] = -\\left [\\begin{array}{c}\n",
        "  0\\\\\n",
        "  0\\\\\n",
        "  1\\\\\n",
        "  0\\\\\n",
        "\\end{array}\\right ]=-|10>$$  \\\\\n",
        "\n",
        "$$ U_{f}|11>=\\left [\\begin{array}{cccc}\n",
        "  1&0&0&0 \\\\\n",
        "  0&1&0&0 \\\\\n",
        "  0&0&-1&0 \\\\\n",
        "  0&0&0&1 \\\\\n",
        "\\end{array}\\right ] \\left [\\begin{array}{c}\n",
        "  0\\\\\n",
        "  0\\\\\n",
        "  0\\\\\n",
        "  1\\\\\n",
        "\\end{array}\\right ] = \\left [\\begin{array}{c}\n",
        "  0\\\\\n",
        "  0\\\\\n",
        "  0\\\\\n",
        "  1\\\\\n",
        "\\end{array}\\right ]=|11>$$ \\\\\n",
        "\n",
        "O próximo passo é construir o algoritmo codificado para encontrar nossa string $|10>$...\n"
      ],
      "metadata": {
        "id": "tAsVz8hDzMBw"
      }
    },
    {
      "cell_type": "code",
      "source": [
        "def oraculo(string):\n",
        "\n",
        "    indice = np.ravel_multi_index(string, [2]*len(string)) # encontra o indice da string\n",
        "    matriz = np.identity(2**len(string)) # Cria a matriz identidade\n",
        "\n",
        "    matriz[indice,indice] = - matriz[indice,indice]\n",
        "\n",
        "    return matriz\n",
        "\n",
        "\n",
        "s = [1,0]\n",
        "\n",
        "oraculo(s)"
      ],
      "metadata": {
        "colab": {
          "base_uri": "https://localhost:8080/"
        },
        "id": "xvCceFOX2grp",
        "outputId": "a1aafc3d-4298-4a9a-e868-e62324a0acb6"
      },
      "execution_count": null,
      "outputs": [
        {
          "output_type": "execute_result",
          "data": {
            "text/plain": [
              "tensor([[ 1.,  0.,  0.,  0.],\n",
              "        [ 0.,  1.,  0.,  0.],\n",
              "        [ 0.,  0., -1.,  0.],\n",
              "        [ 0.,  0.,  0.,  1.]], requires_grad=True)"
            ]
          },
          "metadata": {},
          "execution_count": 6
        }
      ]
    },
    {
      "cell_type": "markdown",
      "source": [
        "0. Explique o que faz a função: ```np.ravel_multi_index()```\n",
        "1. No circuito acima, faça s = [0,0], [0,1] e [1,1]. Como a matriz do oráculo se transforma?\n",
        "2.Faça um cadeado cujo segredo contenha 8 digitos binários e rode. O resultado foi o esperado? \\\\\n",
        "\n",
        "No próximo passo, vamos aplicar nosso oráculo e ver o que acontece com a distribuição de estados!"
      ],
      "metadata": {
        "id": "_FjmNB4h7_6L"
      }
    },
    {
      "cell_type": "code",
      "source": [
        "s = [1,0]\n",
        "\n",
        "n_qubits = len(s)\n",
        "n_shots = 10\n",
        "\n",
        "dev = qml.device(\"default.qubit\", wires=n_qubits,shots=n_shots)\n",
        "\n",
        "@qml.qnode(dev)\n",
        "def segredo(n_qubits):\n",
        "  for i in range(n_qubits):\n",
        "        qml.Hadamard(wires=i)\n",
        "\n",
        "  U = oraculo(s)\n",
        "  qml.QubitUnitary(U, wires=range(n_qubits))\n",
        "\n",
        "  return qml.probs(wires=range(n_qubits))\n",
        "\n",
        "y = (n_qubits)\n",
        "x = [str(bin(i)) for i in range(2**n_qubits)]\n",
        "\n",
        "#----- circuito -----\n",
        "\n",
        "dw = qml.draw(segredo)\n",
        "\n",
        "#----- distribuição de estados ----\n",
        "print(\"Cirucuito: \\n\")\n",
        "print(dw(n_qubits))\n",
        "\n",
        "print(\"Medidas: \\n\")\n",
        "plt.bar(x,y)\n",
        "plt.xticks(rotation = 90)\n",
        "plt.xlabel(\"estados\")\n",
        "plt.ylabel(\"Frequencias\")\n",
        "plt.show()\n",
        "\n"
      ],
      "metadata": {
        "id": "pZbF96aJpp-Q",
        "colab": {
          "base_uri": "https://localhost:8080/",
          "height": 575
        },
        "outputId": "2b664c9c-c63e-4b16-c421-b352aa581a49"
      },
      "execution_count": null,
      "outputs": [
        {
          "output_type": "stream",
          "name": "stdout",
          "text": [
            "Cirucuito: \n",
            "\n",
            "0: ──H──RZ(2.36)──RY(3.14)──RZ(10.21)─╭●──RZ(0.79)──RY(3.14)──RZ(11.78)─┤ ╭Probs\n",
            "1: ──H──RZ(1.57)──RY(1.57)──RZ(0.00)──╰X──RZ(3.14)──RY(1.57)──RZ(11.00)─┤ ╰Probs\n",
            "Medidas: \n",
            "\n"
          ]
        },
        {
          "output_type": "display_data",
          "data": {
            "text/plain": [
              "<Figure size 640x480 with 1 Axes>"
            ],
            "image/png": "[encoded data removed]"
          },
          "metadata": {}
        }
      ]
    },
    {
      "cell_type": "markdown",
      "source": [
        "1. Qual a função do método ``` QubitUnitary(U, wires=range(n_qubits))``` ?\n",
        "2. Por que o circuito do operador mudança de fase é composto por várias portas de rotação e uma CNOT?\n",
        "3. Rode para n_shots = 1, 10 e 100. Por que a distribuição de probabilidades dos estados é uniforme?\n",
        "4. Qual a utilidade da mudança de fase na identificação da string do segredo? \\\\\n",
        "\n",
        "\n",
        "\n"
      ],
      "metadata": {
        "id": "sPqcEX1D9PFx"
      }
    },
    {
      "cell_type": "markdown",
      "source": [
        "#2.1 Amplificação de amplitude\n",
        "\n",
        "Somente a inversão de fase não é sufuciente para, com algumas medidas, obtermos informação que possa distinguir o estado $|\\vec{s}>$ dos outros estados. Portanto, vamos considerar um estado clássico na forma de um vetor dado por:\n",
        "\n",
        "$V = \\left [\\begin{array}{cccc}\n",
        "  53&38&17&23&79 \\\\\n",
        "\\end{array}\\right ]^{t}$\n",
        "\n",
        "Agora, vamos considerar a média dos elemntos do vetor $V$ dada por $a = 42$.\n",
        "O próximo passo é calcular a distância entre cada elemento, $v$, do vetor em relação à média; logo, o primeiro elemnto com valor 53 está a $a-53=-11$ de distância da média. Se somarmos a média com essa diferença teremos $a + (a-53) = 31$. Repetindo o mesmo procedimento para cada um dos elemento do vetor $V$ por meio da equação:\n",
        "\n",
        "$v^{'}=a + (a-v) = -v + 2a$\n",
        "\n",
        "construiremos o vetor $V^{'}$ dado por:\n",
        "\n",
        "\n",
        "$V^{'}=\\left [\\begin{array}{cccc}\n",
        "  31&46&67&61&5 \\\\\n",
        "\\end{array}\\right ]^{t}$\n",
        "\n",
        "Desse modo, podemos generalizar vetorialmente considerando a matriz $A$:\n",
        "\n",
        "$\n",
        "A=\\left [\\begin{array}{cccc}\n",
        "  \\frac{1}{5}&\\frac{1}{5}&\\frac{1}{5}&\\frac{1}{5}&\\frac{1}{5} \\\\\n",
        "  \\frac{1}{5}&\\frac{1}{5}&\\frac{1}{5}&\\frac{1}{5}&\\frac{1}{5} \\\\\n",
        "  \\frac{1}{5}&\\frac{1}{5}&\\frac{1}{5}&\\frac{1}{5}&\\frac{1}{5} \\\\\n",
        "  \\frac{1}{5}&\\frac{1}{5}&\\frac{1}{5}&\\frac{1}{5}&\\frac{1}{5} \\\\\n",
        "  \\frac{1}{5}&\\frac{1}{5}&\\frac{1}{5}&\\frac{1}{5}&\\frac{1}{5} \\\\\n",
        "\\end{array}\\right ]\n",
        "$\n",
        "\n",
        "Portanto,\n",
        "\n",
        "$V^{'} = -V + 2\\times AV = (-I+2A)V$\n",
        "\n",
        "\n",
        "**Exercicio**: crie um algoritmo em python mostrando um grafico dos valores do vetor $V$ e do vetor $V^{'}$ no mesmo plano cartesiano. Não esqueça de colocar uma linha horizontal vermelha indicando a média. Deixe que o usuário entre com os 5 valores de ponto flutuante que desejar."
      ],
      "metadata": {
        "id": "qXYg4pU2cMiD"
      }
    },
    {
      "cell_type": "code",
      "source": [
        "import matplotlib.pyplot as plt\n",
        "import numpy as np\n",
        "\n",
        "c = 0\n",
        "V = []\n",
        "\n",
        "tam = int(input(\"Qual o tamanho do vetor V? \\n\"))\n",
        "\n",
        "while c < tam:\n",
        "  v = float(input(f\"Digite o valor v{c}: \"))\n",
        "  V.append(v)\n",
        "  c += 1\n",
        "\n",
        "print(f\"V = {V}\")\n",
        "\n",
        "def V_linha(v):\n",
        "\n",
        "  a = 1/tam\n",
        "  A = a*np.ones((tam,tam))\n",
        "  v = np.array(v)\n",
        "  print(A)\n",
        "  print(v)\n",
        "  return -v + 2*np.dot(A,v)\n",
        "\n",
        "y1 = V\n",
        "y2 = V_linha(V)\n",
        "\n",
        "fig, ax = plt.subplots()\n",
        "ax.scatter(range(0,tam),y1)\n",
        "ax.scatter(range(0,tam),y2)\n",
        "ax.set_ylabel('y')\n",
        "ax.set_title('')\n",
        "plt.axhline(y =sum(V)/tam , color = 'r', linestyle = '-')\n",
        "plt.show()"
      ],
      "metadata": {
        "id": "iO0teIbnj6au"
      },
      "execution_count": null,
      "outputs": []
    },
    {
      "cell_type": "markdown",
      "source": [
        "O próximo passo é utilizar a estrutura lógica acima para o nosso caso onde um qubit possui $2^{n^{o} cbits}$ estados possíveis. Neste caso a matriz $A$ fica na forma:\n",
        "\n",
        "$\n",
        "A=\\left [\\begin{array}{cccc}\n",
        "  \\frac{1}{2^{n}}&\\frac{1}{2^{n}}&\\frac{1}{2^{n}}&\\frac{1}{2^{n}}&... \\\\\n",
        "  \\frac{1}{2^{n}}&\\frac{1}{2^{n}} &\\frac{1}{2^{n}} &\\frac{1}{2^{n}} &  \\\\\n",
        "  \\frac{1}{2^{n}}&\\frac{1}{2^{n}} &... & &  \\\\\n",
        "  \\frac{1}{2^{n}}&\\frac{1}{2^{n}} &... & &  \\\\\n",
        "  \\frac{1}{2^{n}}&\\frac{1}{2^{n}}&\\frac{1}{2^{n}}&\\frac{1}{2^{n}}&... \\\\\n",
        "\\end{array}\\right ]\n",
        "$"
      ],
      "metadata": {
        "id": "fh-WK3mQtOcf"
      }
    },
    {
      "cell_type": "code",
      "source": [
        "dev = qml.device(\"default.qubit\", wires=2)\n",
        "\n",
        "@qml.qnode(dev)\n",
        "def superposicao():\n",
        "  qml.Hadamard(wires=0)\n",
        "  qml.PauliZ(wires=1)\n",
        "  return qml.probs(wires=[0,1])\n",
        "\n",
        "\n",
        "\n",
        "y = superposicao()\n",
        "\n",
        "print(y)\n"
      ],
      "metadata": {
        "id": "i_PLaLs6tMTT",
        "colab": {
          "base_uri": "https://localhost:8080/",
          "height": 470
        },
        "outputId": "f2f3831e-1b7b-4a37-d7a2-4afdfe4eb190"
      },
      "execution_count": 11,
      "outputs": [
        {
          "output_type": "stream",
          "name": "stdout",
          "text": [
            "[0.5 0.  0.5 0. ]\n"
          ]
        },
        {
          "output_type": "display_data",
          "data": {
            "text/plain": [
              "<Figure size 640x480 with 1 Axes>"
            ],
            "image/png": "[encoded data removed]"
          },
          "metadata": {}
        }
      ]
    }
  ]
}