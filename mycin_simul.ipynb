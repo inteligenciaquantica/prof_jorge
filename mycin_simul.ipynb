{
  "nbformat": 4,
  "nbformat_minor": 0,
  "metadata": {
    "colab": {
      "provenance": []
    },
    "kernelspec": {
      "name": "python3",
      "display_name": "Python 3"
    },
    "language_info": {
      "name": "python"
    }
  },
  "cells": [
    {
      "cell_type": "markdown",
      "source": [
        "#Teorema de Bayes\n",
        "\n",
        "Dados dois eventos A e B a probabilidade de ocorrer A e B é dada por:\n",
        "\n",
        "$\\hspace{2cm} P(A \\hspace{0.2cm}e \\hspace{0.2cm}B)=P(B \\hspace{0.2cm}e\\hspace{0.2cm} A) \\hspace{2cm} (1)$\n",
        "\n",
        "Além disso,\n",
        "$\\hspace{2cm} P(A \\hspace{0.2cm}e\\hspace{0.2cm} B) = P(A|B)P(B) \\hspace{1cm} e \\hspace{1cm}P(B \\hspace{0.2cm}e \\hspace{0.2cm}A) = P(B|A)P(A)  \\hspace{2cm}$, portanto,\n",
        "\n",
        "$\\hspace{2cm} P(A|B)P(B) = P(B|A)P(A)  \\hspace{2cm}$\n",
        "\n",
        "logo,\n",
        "\n",
        "$\\hspace{2cm} P(A|B) =\\frac{P(B|A)P(A)}{P(B)}   \\hspace{2cm} (2)$,\n",
        "\n",
        "que é conhecido como $\\textit{Teorema de Bayes}$.\n",
        "\n",
        "\\\\\n",
        "\n",
        "EXEMPLO: Qual a probabilidade de um indivíduo estar A = gripado e com B = febre sabendo-se que: P(gripado) = 2%, P(febre) = 1% e P(febre|gripado) = 80%?\n",
        "\n",
        "\\\\\n",
        "\n",
        "SOLUÇÃO: Vamos aplicar a equação (2), Teorema de Bayes, logo:\n",
        "\n",
        "\\\\\n",
        "\n",
        "$\\hspace{2cm} P(gripado|febre) =\\frac{P(febre|gripado)P(gripado)}{P(febre)}= \\frac{80\\%.2\\%}{1\\%}=40\\%  \\hspace{2cm}$\n",
        "\n",
        "\\\\\n",
        "\n",
        "Ou seja, aprobabilidade de estar gripado dado que está com febre é 40%.\n",
        "\n",
        "\\\\\n",
        "\n",
        "**Lei da probabilidade total**\n",
        "\n",
        "\n",
        "---\n",
        "\n",
        "\n",
        "\\\\\n",
        "\n",
        " Para 2 eventos complementares: $A = gripado$ e $A^{c} = A - 1 = normal$\n",
        "\n",
        "\\\\\n",
        "\n",
        "$\\hspace{2cm} P(B) = P(B|A)P(A) + P(B|A^{c})P(A^{c})   \\hspace{2cm} (3)$,\n",
        "\n",
        "\\\\\n",
        "\n",
        "---\n",
        "\n",
        "\\\\\n",
        "\n",
        "Neste caso, o Teorema de Bayes se torna:\n",
        "\n",
        "\\\\\n",
        "\n",
        "$\\hspace{2cm} P(A|B) =\\frac{P(B|A)P(A)}{P(B|A)P(A) + P(B|A^{c})P(A^{c})}   \\hspace{2cm} (4)$\n",
        "\n",
        "\\\\\n",
        "\n",
        "Existem fenômenos onde o espaço amostral contém mais de dois eventos possíveis. Nesse caso, o Teorema de Bayes toma sua forma generalizada:\n",
        "\n",
        "\\\\\n",
        "\n",
        "$\\hspace{2cm} P(A|B) =\\frac{P(B|A)P(A)}{P(B|A_{1})P(A_{1}) + P(B|A_{2})P(A_{2}) + ... + P(B|A_{n})P(A_{n})}   \\hspace{2cm} (5)$\n",
        "\n",
        "\n",
        "\n",
        "\n",
        "\n",
        "\n",
        "\n",
        "\n"
      ],
      "metadata": {
        "id": "Pu8wV07foRys"
      }
    },
    {
      "cell_type": "code",
      "execution_count": 5,
      "metadata": {
        "colab": {
          "base_uri": "https://localhost:8080/"
        },
        "id": "6wsbeRprfLX4",
        "outputId": "223875bb-f64a-4b4f-fa86-b504441c7001"
      },
      "outputs": [
        {
          "output_type": "stream",
          "name": "stdout",
          "text": [
            "Probabilidade do paciente ter sintoma e ter a infecção(%): 90\n",
            "Probabilidade do paciente ter sintoma sem ter a infecção(%): 20\n",
            "A probabilidade do paciente ter uma infecção bacteriana é (%): 33.33\n"
          ]
        }
      ],
      "source": [
        "import numpy as np\n",
        "\n",
        "# Definindo as probabilidades iniciais (priori)\n",
        "# Probabilidade de infecção bacteriana\n",
        "P_infeccao = 0.1  # 10%\n",
        "\n",
        "# Probabilidades de sintomas com e sem infecção\n",
        "P_sintoma_dado_infeccao = float(input(\"Probabilidade do paciente ter sintoma e ter a infecção(%): \"))  # 90% dos infectados apresentam o sintoma\n",
        "P_sintoma_dado_sem_infeccao = float(input(\"Probabilidade do paciente ter sintoma sem ter a infecção(%): \"))  # 20% dos não infectados apresentam o sintoma\n",
        "\n",
        "# Função para calcular a probabilidade da infecção usando o Teorema de Bayes\n",
        "def calcular_probabilidade_infeccao(sintoma):\n",
        "    if sintoma:\n",
        "        # Usando o teorema de Bayes\n",
        "        P_sintoma = (P_sintoma_dado_infeccao * P_infeccao) + (P_sintoma_dado_sem_infeccao * (1 - P_infeccao))\n",
        "        P_infeccao_dado_sintoma = (P_sintoma_dado_infeccao * P_infeccao) / P_sintoma\n",
        "        return P_infeccao_dado_sintoma\n",
        "    else:\n",
        "        # Se não há sintoma, a probabilidade de infecção diminui\n",
        "        return P_infeccao * 0.1  # Supondo que a probabilidade de infecção sem sintoma é menor\n",
        "\n",
        "# Simulando um caso\n",
        "sintoma = True  # O paciente apresenta o sintoma\n",
        "probabilidade = calcular_probabilidade_infeccao(sintoma)\n",
        "\n",
        "print(f\"A probabilidade do paciente ter uma infecção bacteriana é (%): {probabilidade*100:.2f}\")\n"
      ]
    },
    {
      "cell_type": "markdown",
      "source": [
        "#O MYCIN sugeria a melhor terapia com base em um processo que envolvia várias etapas:\n",
        "\n",
        "1. **Coleta de Dados do Paciente:** O sistema começava coletando informações sobre os sintomas do paciente, histórico médico, resultados de exames e outras variáveis relevantes.\n",
        "\n",
        "2. **Avaliação de Probabilidades:** Utilizando a teoria de probabilidades bayesianas, o MYCIN avaliava a probabilidade de diferentes condições médicas (como tipos de infecções) com base nas informações coletadas.\n",
        "\n",
        "3. **Base de Conhecimento:** O sistema possuía uma extensa base de conhecimento sobre doenças, patógenos e tratamentos. Essa base incluía regras e informações de especialistas médicos.\n",
        "\n",
        "4. **Inferência:** Com base nas probabilidades e na base de conhecimento, o MYCIN aplicava inferência para determinar as melhores opções de tratamento. Ele avaliava quais terapias eram mais eficazes para as condições diagnosticadas.\n",
        "\n",
        "5. **Recomendações:** Após a análise, o MYCIN fornecia recomendações sobre a terapia mais adequada, incluindo tipos de antibióticos e dosagens. Ele também explicava as razões por trás de suas sugestões, aumentando a transparência e a confiança no sistema.\n",
        "\n",
        "6. **Interação com o Usuário:** O MYCIN permitia que médicos interagissem com o sistema, fazendo perguntas e ajustando as informações conforme necessário. Isso ajudava a refinar as recomendações com base na experiência e no julgamento clínico do especialista.\n"
      ],
      "metadata": {
        "id": "MxlDaEvoitRa"
      }
    },
    {
      "cell_type": "code",
      "source": [
        "\n",
        "\n",
        "# Passo 1: Coleta de Dados do Paciente\n",
        "def coletar_dados():\n",
        "    sintomas = input(\"O paciente apresenta febre? (s/n): \").strip().lower() == 's'\n",
        "    resultado_exame = input(\"O exame de sangue indica infecção? (s/n): \").strip().lower() == 's'\n",
        "    return sintomas, resultado_exame\n",
        "\n",
        "# Passo 2: Avaliação de Probabilidades\n",
        "def avaliar_probabilidades(sintomas, resultado_exame, prob_inicial_infeccao):\n",
        "\n",
        "    P_infeccao = prob_inicial_infeccao/100.  # Probabilidade inicial de infecção\n",
        "    P_sintoma_dado_infeccao = 0.9 if sintomas else 0.1\n",
        "    P_sintoma_dado_sem_infeccao = 0.2 if resultado_exame else 0.05\n",
        "\n",
        "    # Teorema de Bayes\n",
        "    P_sintoma = (P_sintoma_dado_infeccao * P_infeccao) + (P_sintoma_dado_sem_infeccao * (1 - P_infeccao))\n",
        "    P_infeccao_dado_sintoma = (P_sintoma_dado_infeccao * P_infeccao) / P_sintoma\n",
        "\n",
        "    return P_infeccao_dado_sintoma\n",
        "\n",
        "# Passo 3: Base de Conhecimento\n",
        "def base_de_conhecimento(probabilidade):\n",
        "    if probabilidade > 0.7:\n",
        "        return \"Infecção bacteriana alta\"\n",
        "    elif probabilidade > 0.4:\n",
        "        return \"Infecção bacteriana moderada\"\n",
        "    else:\n",
        "        return \"Baixa probabilidade de infecção\"\n",
        "\n",
        "# Passo 4: Inferência\n",
        "def inferencia(probabilidade):\n",
        "    if probabilidade > 0.7:\n",
        "        return \"Recomendar antibiótico A: Ciprofloxacina\"\n",
        "    elif probabilidade > 0.4:\n",
        "        return \"Recomendar antibiótico B: Amoxicilina\"\n",
        "    else:\n",
        "        return \"Monitorar o paciente\"\n",
        "\n",
        "# Passo 5: Recomendações\n",
        "def recomendar_terapia(probabilidade):\n",
        "    condicao = base_de_conhecimento(probabilidade)\n",
        "    terapia = inferencia(probabilidade)\n",
        "    return condicao, terapia\n",
        "\n",
        "# Passo 6: Interação com o Usuário\n",
        "def main():\n",
        "    print(\"Simulação do sistema MYCIN:\")\n",
        "\n",
        "    sintomas, resultado_exame = coletar_dados()\n",
        "    prob_inicial_infeccao = float(input(\"Probabilidade inicial de infecção (%): \"))\n",
        "    probabilidade = avaliar_probabilidades(sintomas, resultado_exame,prob_inicial_infeccao)\n",
        "\n",
        "    condicao, terapia = recomendar_terapia(probabilidade)\n",
        "\n",
        "    print(f\"\\nProbabilidade de infecção(%): {probabilidade*100:.2f}\")\n",
        "    print(f\"Condição Diagnóstica: {condicao}\")\n",
        "    print(f\"Recomendação de Terapia: {terapia}\")\n",
        "\n",
        "\n"
      ],
      "metadata": {
        "id": "clGAJ1pniu5H"
      },
      "execution_count": 3,
      "outputs": []
    },
    {
      "cell_type": "code",
      "source": [
        "main()"
      ],
      "metadata": {
        "colab": {
          "base_uri": "https://localhost:8080/"
        },
        "id": "5SgexRzui0ha",
        "outputId": "bee1067c-f393-4b3b-e8b8-16e8bb43a2c9"
      },
      "execution_count": 4,
      "outputs": [
        {
          "output_type": "stream",
          "name": "stdout",
          "text": [
            "Simulação do sistema MYCIN:\n",
            "O paciente apresenta febre? (s/n): s\n",
            "O exame de sangue indica infecção? (s/n): n\n",
            "Probabilidade inicial de infecção (%): 10\n",
            "\n",
            "Probabilidade de infecção(%): 66.67\n",
            "Condição Diagnóstica: Infecção bacteriana moderada\n",
            "Recomendação de Terapia: Recomendar antibiótico B: Amoxicilina\n"
          ]
        }
      ]
    }
  ]
}